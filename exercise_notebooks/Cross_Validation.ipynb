{
 "cells": [
  {
   "cell_type": "markdown",
   "id": "283e11ae",
   "metadata": {},
   "source": [
    "# Cross Validation\n",
    "***\n",
    "\n",
    "So far we have used `train_test_split` to validate our model.\n",
    "However, it could be that we got bad luck when splitting our data.\n",
    "For example, it could be that several extreme data points lie in the training or testing set or there are particular easy cases to predict which happen to be in the training or testing set.\n",
    "To illustrate this and also introduce **feature engineering** let's load again the california housing dataset."
   ]
  },
  {
   "cell_type": "code",
   "execution_count": 3,
   "id": "ee022f94",
   "metadata": {},
   "outputs": [
    {
     "data": {
      "text/html": [
       "<div>\n",
       "<style scoped>\n",
       "    .dataframe tbody tr th:only-of-type {\n",
       "        vertical-align: middle;\n",
       "    }\n",
       "\n",
       "    .dataframe tbody tr th {\n",
       "        vertical-align: top;\n",
       "    }\n",
       "\n",
       "    .dataframe thead th {\n",
       "        text-align: right;\n",
       "    }\n",
       "</style>\n",
       "<table border=\"1\" class=\"dataframe\">\n",
       "  <thead>\n",
       "    <tr style=\"text-align: right;\">\n",
       "      <th></th>\n",
       "      <th>MedInc</th>\n",
       "      <th>HouseAge</th>\n",
       "      <th>AveRooms</th>\n",
       "      <th>AveBedrms</th>\n",
       "      <th>Population</th>\n",
       "      <th>AveOccup</th>\n",
       "      <th>Latitude</th>\n",
       "      <th>Longitude</th>\n",
       "    </tr>\n",
       "  </thead>\n",
       "  <tbody>\n",
       "    <tr>\n",
       "      <th>0</th>\n",
       "      <td>8.3252</td>\n",
       "      <td>41.0</td>\n",
       "      <td>6.984127</td>\n",
       "      <td>1.023810</td>\n",
       "      <td>322.0</td>\n",
       "      <td>2.555556</td>\n",
       "      <td>37.88</td>\n",
       "      <td>-122.23</td>\n",
       "    </tr>\n",
       "    <tr>\n",
       "      <th>1</th>\n",
       "      <td>8.3014</td>\n",
       "      <td>21.0</td>\n",
       "      <td>6.238137</td>\n",
       "      <td>0.971880</td>\n",
       "      <td>2401.0</td>\n",
       "      <td>2.109842</td>\n",
       "      <td>37.86</td>\n",
       "      <td>-122.22</td>\n",
       "    </tr>\n",
       "    <tr>\n",
       "      <th>2</th>\n",
       "      <td>7.2574</td>\n",
       "      <td>52.0</td>\n",
       "      <td>8.288136</td>\n",
       "      <td>1.073446</td>\n",
       "      <td>496.0</td>\n",
       "      <td>2.802260</td>\n",
       "      <td>37.85</td>\n",
       "      <td>-122.24</td>\n",
       "    </tr>\n",
       "    <tr>\n",
       "      <th>3</th>\n",
       "      <td>5.6431</td>\n",
       "      <td>52.0</td>\n",
       "      <td>5.817352</td>\n",
       "      <td>1.073059</td>\n",
       "      <td>558.0</td>\n",
       "      <td>2.547945</td>\n",
       "      <td>37.85</td>\n",
       "      <td>-122.25</td>\n",
       "    </tr>\n",
       "    <tr>\n",
       "      <th>4</th>\n",
       "      <td>3.8462</td>\n",
       "      <td>52.0</td>\n",
       "      <td>6.281853</td>\n",
       "      <td>1.081081</td>\n",
       "      <td>565.0</td>\n",
       "      <td>2.181467</td>\n",
       "      <td>37.85</td>\n",
       "      <td>-122.25</td>\n",
       "    </tr>\n",
       "  </tbody>\n",
       "</table>\n",
       "</div>"
      ],
      "text/plain": [
       "   MedInc  HouseAge  AveRooms  AveBedrms  Population  AveOccup  Latitude  \\\n",
       "0  8.3252      41.0  6.984127   1.023810       322.0  2.555556     37.88   \n",
       "1  8.3014      21.0  6.238137   0.971880      2401.0  2.109842     37.86   \n",
       "2  7.2574      52.0  8.288136   1.073446       496.0  2.802260     37.85   \n",
       "3  5.6431      52.0  5.817352   1.073059       558.0  2.547945     37.85   \n",
       "4  3.8462      52.0  6.281853   1.081081       565.0  2.181467     37.85   \n",
       "\n",
       "   Longitude  \n",
       "0    -122.23  \n",
       "1    -122.22  \n",
       "2    -122.24  \n",
       "3    -122.25  \n",
       "4    -122.25  "
      ]
     },
     "execution_count": 3,
     "metadata": {},
     "output_type": "execute_result"
    }
   ],
   "source": [
    "import pandas as pd\n",
    "from sklearn.datasets import fetch_california_housing\n",
    "\n",
    "cali = fetch_california_housing(as_frame=True)\n",
    "cali.data.head()"
   ]
  },
  {
   "cell_type": "markdown",
   "id": "021290ae",
   "metadata": {},
   "source": [
    "We will again use linear regression to predict the median house value, but this time we will employ feature engineering to also take products of features into account.\n",
    "This can be done by using the `PolynomialFeatures` function from `scikit-learn`."
   ]
  },
  {
   "cell_type": "markdown",
   "id": "b372758f",
   "metadata": {},
   "source": [
    "### Feature engineering"
   ]
  },
  {
   "cell_type": "code",
   "execution_count": 5,
   "id": "a6362af5",
   "metadata": {},
   "outputs": [],
   "source": [
    "from sklearn.linear_model import LinearRegression\n",
    "from sklearn.preprocessing import StandardScaler\n",
    "from sklearn.preprocessing import PolynomialFeatures\n",
    "from sklearn.pipeline import make_pipeline"
   ]
  },
  {
   "cell_type": "markdown",
   "id": "c74e6239",
   "metadata": {},
   "source": [
    "The usage of `PolynomialFeatures` is the same as for `StandardScaler`.\n",
    "In particular we could use it in a pipeline.\n",
    "This time let's do it manually so that we actually know what is happening in the pipeline."
   ]
  },
  {
   "cell_type": "code",
   "execution_count": 7,
   "id": "d9bce561",
   "metadata": {},
   "outputs": [],
   "source": [
    "# instantiating the object\n",
    "# look up the documentation of PolynomialFeatures to see all possible parameters\n",
    "poly = PolynomialFeatures()\n",
    "\n",
    "# to transform our data we first have to fit it\n",
    "poly.fit(cali.data)\n",
    "\n",
    "# then we transform it using the transform function\n",
    "poly_cali = poly.transform(cali.data)"
   ]
  },
  {
   "cell_type": "markdown",
   "id": "f2cbd35e",
   "metadata": {},
   "source": [
    "Let's have a look at the new features."
   ]
  },
  {
   "cell_type": "code",
   "execution_count": 10,
   "id": "77f7716d",
   "metadata": {},
   "outputs": [
    {
     "data": {
      "text/plain": [
       "array(['1', 'MedInc', 'HouseAge', 'AveRooms', 'AveBedrms', 'Population',\n",
       "       'AveOccup', 'Latitude', 'Longitude', 'MedInc^2', 'MedInc HouseAge',\n",
       "       'MedInc AveRooms', 'MedInc AveBedrms', 'MedInc Population',\n",
       "       'MedInc AveOccup', 'MedInc Latitude', 'MedInc Longitude',\n",
       "       'HouseAge^2', 'HouseAge AveRooms', 'HouseAge AveBedrms',\n",
       "       'HouseAge Population', 'HouseAge AveOccup', 'HouseAge Latitude',\n",
       "       'HouseAge Longitude', 'AveRooms^2', 'AveRooms AveBedrms',\n",
       "       'AveRooms Population', 'AveRooms AveOccup', 'AveRooms Latitude',\n",
       "       'AveRooms Longitude', 'AveBedrms^2', 'AveBedrms Population',\n",
       "       'AveBedrms AveOccup', 'AveBedrms Latitude', 'AveBedrms Longitude',\n",
       "       'Population^2', 'Population AveOccup', 'Population Latitude',\n",
       "       'Population Longitude', 'AveOccup^2', 'AveOccup Latitude',\n",
       "       'AveOccup Longitude', 'Latitude^2', 'Latitude Longitude',\n",
       "       'Longitude^2'], dtype=object)"
      ]
     },
     "execution_count": 10,
     "metadata": {},
     "output_type": "execute_result"
    }
   ],
   "source": [
    "poly.get_feature_names_out()"
   ]
  },
  {
   "cell_type": "markdown",
   "id": "8ce214d9",
   "metadata": {},
   "source": [
    "As we can see, `PolynomialFeatures` multiplies each feature with all other features including itself.\n",
    "There is a shorthand for tranforming data."
   ]
  },
  {
   "cell_type": "code",
   "execution_count": 13,
   "id": "38dd4496",
   "metadata": {},
   "outputs": [],
   "source": [
    "poly_cali = poly.fit_transform(cali.data)"
   ]
  },
  {
   "cell_type": "markdown",
   "id": "63eb76ef",
   "metadata": {},
   "source": [
    "Now let's train a model using these extended features."
   ]
  },
  {
   "cell_type": "code",
   "execution_count": 17,
   "id": "a77cb38f",
   "metadata": {},
   "outputs": [
    {
     "data": {
      "text/html": [
       "<style>#sk-container-id-1 {color: black;}#sk-container-id-1 pre{padding: 0;}#sk-container-id-1 div.sk-toggleable {background-color: white;}#sk-container-id-1 label.sk-toggleable__label {cursor: pointer;display: block;width: 100%;margin-bottom: 0;padding: 0.3em;box-sizing: border-box;text-align: center;}#sk-container-id-1 label.sk-toggleable__label-arrow:before {content: \"▸\";float: left;margin-right: 0.25em;color: #696969;}#sk-container-id-1 label.sk-toggleable__label-arrow:hover:before {color: black;}#sk-container-id-1 div.sk-estimator:hover label.sk-toggleable__label-arrow:before {color: black;}#sk-container-id-1 div.sk-toggleable__content {max-height: 0;max-width: 0;overflow: hidden;text-align: left;background-color: #f0f8ff;}#sk-container-id-1 div.sk-toggleable__content pre {margin: 0.2em;color: black;border-radius: 0.25em;background-color: #f0f8ff;}#sk-container-id-1 input.sk-toggleable__control:checked~div.sk-toggleable__content {max-height: 200px;max-width: 100%;overflow: auto;}#sk-container-id-1 input.sk-toggleable__control:checked~label.sk-toggleable__label-arrow:before {content: \"▾\";}#sk-container-id-1 div.sk-estimator input.sk-toggleable__control:checked~label.sk-toggleable__label {background-color: #d4ebff;}#sk-container-id-1 div.sk-label input.sk-toggleable__control:checked~label.sk-toggleable__label {background-color: #d4ebff;}#sk-container-id-1 input.sk-hidden--visually {border: 0;clip: rect(1px 1px 1px 1px);clip: rect(1px, 1px, 1px, 1px);height: 1px;margin: -1px;overflow: hidden;padding: 0;position: absolute;width: 1px;}#sk-container-id-1 div.sk-estimator {font-family: monospace;background-color: #f0f8ff;border: 1px dotted black;border-radius: 0.25em;box-sizing: border-box;margin-bottom: 0.5em;}#sk-container-id-1 div.sk-estimator:hover {background-color: #d4ebff;}#sk-container-id-1 div.sk-parallel-item::after {content: \"\";width: 100%;border-bottom: 1px solid gray;flex-grow: 1;}#sk-container-id-1 div.sk-label:hover label.sk-toggleable__label {background-color: #d4ebff;}#sk-container-id-1 div.sk-serial::before {content: \"\";position: absolute;border-left: 1px solid gray;box-sizing: border-box;top: 0;bottom: 0;left: 50%;z-index: 0;}#sk-container-id-1 div.sk-serial {display: flex;flex-direction: column;align-items: center;background-color: white;padding-right: 0.2em;padding-left: 0.2em;position: relative;}#sk-container-id-1 div.sk-item {position: relative;z-index: 1;}#sk-container-id-1 div.sk-parallel {display: flex;align-items: stretch;justify-content: center;background-color: white;position: relative;}#sk-container-id-1 div.sk-item::before, #sk-container-id-1 div.sk-parallel-item::before {content: \"\";position: absolute;border-left: 1px solid gray;box-sizing: border-box;top: 0;bottom: 0;left: 50%;z-index: -1;}#sk-container-id-1 div.sk-parallel-item {display: flex;flex-direction: column;z-index: 1;position: relative;background-color: white;}#sk-container-id-1 div.sk-parallel-item:first-child::after {align-self: flex-end;width: 50%;}#sk-container-id-1 div.sk-parallel-item:last-child::after {align-self: flex-start;width: 50%;}#sk-container-id-1 div.sk-parallel-item:only-child::after {width: 0;}#sk-container-id-1 div.sk-dashed-wrapped {border: 1px dashed gray;margin: 0 0.4em 0.5em 0.4em;box-sizing: border-box;padding-bottom: 0.4em;background-color: white;}#sk-container-id-1 div.sk-label label {font-family: monospace;font-weight: bold;display: inline-block;line-height: 1.2em;}#sk-container-id-1 div.sk-label-container {text-align: center;}#sk-container-id-1 div.sk-container {/* jupyter's `normalize.less` sets `[hidden] { display: none; }` but bootstrap.min.css set `[hidden] { display: none !important; }` so we also need the `!important` here to be able to override the default hidden behavior on the sphinx rendered scikit-learn.org. See: https://github.com/scikit-learn/scikit-learn/issues/21755 */display: inline-block !important;position: relative;}#sk-container-id-1 div.sk-text-repr-fallback {display: none;}</style><div id=\"sk-container-id-1\" class=\"sk-top-container\"><div class=\"sk-text-repr-fallback\"><pre>Pipeline(steps=[(&#x27;standardscaler&#x27;, StandardScaler()),\n",
       "                (&#x27;linearregression&#x27;, LinearRegression())])</pre><b>In a Jupyter environment, please rerun this cell to show the HTML representation or trust the notebook. <br />On GitHub, the HTML representation is unable to render, please try loading this page with nbviewer.org.</b></div><div class=\"sk-container\" hidden><div class=\"sk-item sk-dashed-wrapped\"><div class=\"sk-label-container\"><div class=\"sk-label sk-toggleable\"><input class=\"sk-toggleable__control sk-hidden--visually\" id=\"sk-estimator-id-1\" type=\"checkbox\" ><label for=\"sk-estimator-id-1\" class=\"sk-toggleable__label sk-toggleable__label-arrow\">Pipeline</label><div class=\"sk-toggleable__content\"><pre>Pipeline(steps=[(&#x27;standardscaler&#x27;, StandardScaler()),\n",
       "                (&#x27;linearregression&#x27;, LinearRegression())])</pre></div></div></div><div class=\"sk-serial\"><div class=\"sk-item\"><div class=\"sk-estimator sk-toggleable\"><input class=\"sk-toggleable__control sk-hidden--visually\" id=\"sk-estimator-id-2\" type=\"checkbox\" ><label for=\"sk-estimator-id-2\" class=\"sk-toggleable__label sk-toggleable__label-arrow\">StandardScaler</label><div class=\"sk-toggleable__content\"><pre>StandardScaler()</pre></div></div></div><div class=\"sk-item\"><div class=\"sk-estimator sk-toggleable\"><input class=\"sk-toggleable__control sk-hidden--visually\" id=\"sk-estimator-id-3\" type=\"checkbox\" ><label for=\"sk-estimator-id-3\" class=\"sk-toggleable__label sk-toggleable__label-arrow\">LinearRegression</label><div class=\"sk-toggleable__content\"><pre>LinearRegression()</pre></div></div></div></div></div></div></div>"
      ],
      "text/plain": [
       "Pipeline(steps=[('standardscaler', StandardScaler()),\n",
       "                ('linearregression', LinearRegression())])"
      ]
     },
     "execution_count": 17,
     "metadata": {},
     "output_type": "execute_result"
    }
   ],
   "source": [
    "from sklearn.model_selection import train_test_split\n",
    "X_train, X_test, y_train, y_test = train_test_split(poly_cali, cali.target, random_state=42)\n",
    "\n",
    "poly_lr = make_pipeline(StandardScaler(), LinearRegression())\n",
    "\n",
    "poly_lr.fit(X_train, y_train)"
   ]
  },
  {
   "cell_type": "markdown",
   "id": "3a73e7f9",
   "metadata": {},
   "source": [
    "Now let's look at the scores."
   ]
  },
  {
   "cell_type": "code",
   "execution_count": 18,
   "id": "0b79dad3",
   "metadata": {},
   "outputs": [
    {
     "name": "stdout",
     "output_type": "stream",
     "text": [
      "Train score: 0.6829089327528396\n",
      "Test score: 0.6563005880757413\n"
     ]
    }
   ],
   "source": [
    "print(\"Train score: {}\".format(poly_lr.score(X_train, y_train)))\n",
    "print(\"Test score: {}\".format(poly_lr.score(X_test, y_test)))"
   ]
  },
  {
   "cell_type": "markdown",
   "id": "22e8d496",
   "metadata": {},
   "source": [
    "Looks good! \n",
    "Remember last time, we were able to achieve a score of about 60 for training and testing.\n",
    "Let's try again with a different random seed.\n",
    "This time we make a pipeline for everything."
   ]
  },
  {
   "cell_type": "code",
   "execution_count": 26,
   "id": "279175d5",
   "metadata": {},
   "outputs": [
    {
     "data": {
      "text/html": [
       "<style>#sk-container-id-5 {color: black;}#sk-container-id-5 pre{padding: 0;}#sk-container-id-5 div.sk-toggleable {background-color: white;}#sk-container-id-5 label.sk-toggleable__label {cursor: pointer;display: block;width: 100%;margin-bottom: 0;padding: 0.3em;box-sizing: border-box;text-align: center;}#sk-container-id-5 label.sk-toggleable__label-arrow:before {content: \"▸\";float: left;margin-right: 0.25em;color: #696969;}#sk-container-id-5 label.sk-toggleable__label-arrow:hover:before {color: black;}#sk-container-id-5 div.sk-estimator:hover label.sk-toggleable__label-arrow:before {color: black;}#sk-container-id-5 div.sk-toggleable__content {max-height: 0;max-width: 0;overflow: hidden;text-align: left;background-color: #f0f8ff;}#sk-container-id-5 div.sk-toggleable__content pre {margin: 0.2em;color: black;border-radius: 0.25em;background-color: #f0f8ff;}#sk-container-id-5 input.sk-toggleable__control:checked~div.sk-toggleable__content {max-height: 200px;max-width: 100%;overflow: auto;}#sk-container-id-5 input.sk-toggleable__control:checked~label.sk-toggleable__label-arrow:before {content: \"▾\";}#sk-container-id-5 div.sk-estimator input.sk-toggleable__control:checked~label.sk-toggleable__label {background-color: #d4ebff;}#sk-container-id-5 div.sk-label input.sk-toggleable__control:checked~label.sk-toggleable__label {background-color: #d4ebff;}#sk-container-id-5 input.sk-hidden--visually {border: 0;clip: rect(1px 1px 1px 1px);clip: rect(1px, 1px, 1px, 1px);height: 1px;margin: -1px;overflow: hidden;padding: 0;position: absolute;width: 1px;}#sk-container-id-5 div.sk-estimator {font-family: monospace;background-color: #f0f8ff;border: 1px dotted black;border-radius: 0.25em;box-sizing: border-box;margin-bottom: 0.5em;}#sk-container-id-5 div.sk-estimator:hover {background-color: #d4ebff;}#sk-container-id-5 div.sk-parallel-item::after {content: \"\";width: 100%;border-bottom: 1px solid gray;flex-grow: 1;}#sk-container-id-5 div.sk-label:hover label.sk-toggleable__label {background-color: #d4ebff;}#sk-container-id-5 div.sk-serial::before {content: \"\";position: absolute;border-left: 1px solid gray;box-sizing: border-box;top: 0;bottom: 0;left: 50%;z-index: 0;}#sk-container-id-5 div.sk-serial {display: flex;flex-direction: column;align-items: center;background-color: white;padding-right: 0.2em;padding-left: 0.2em;position: relative;}#sk-container-id-5 div.sk-item {position: relative;z-index: 1;}#sk-container-id-5 div.sk-parallel {display: flex;align-items: stretch;justify-content: center;background-color: white;position: relative;}#sk-container-id-5 div.sk-item::before, #sk-container-id-5 div.sk-parallel-item::before {content: \"\";position: absolute;border-left: 1px solid gray;box-sizing: border-box;top: 0;bottom: 0;left: 50%;z-index: -1;}#sk-container-id-5 div.sk-parallel-item {display: flex;flex-direction: column;z-index: 1;position: relative;background-color: white;}#sk-container-id-5 div.sk-parallel-item:first-child::after {align-self: flex-end;width: 50%;}#sk-container-id-5 div.sk-parallel-item:last-child::after {align-self: flex-start;width: 50%;}#sk-container-id-5 div.sk-parallel-item:only-child::after {width: 0;}#sk-container-id-5 div.sk-dashed-wrapped {border: 1px dashed gray;margin: 0 0.4em 0.5em 0.4em;box-sizing: border-box;padding-bottom: 0.4em;background-color: white;}#sk-container-id-5 div.sk-label label {font-family: monospace;font-weight: bold;display: inline-block;line-height: 1.2em;}#sk-container-id-5 div.sk-label-container {text-align: center;}#sk-container-id-5 div.sk-container {/* jupyter's `normalize.less` sets `[hidden] { display: none; }` but bootstrap.min.css set `[hidden] { display: none !important; }` so we also need the `!important` here to be able to override the default hidden behavior on the sphinx rendered scikit-learn.org. See: https://github.com/scikit-learn/scikit-learn/issues/21755 */display: inline-block !important;position: relative;}#sk-container-id-5 div.sk-text-repr-fallback {display: none;}</style><div id=\"sk-container-id-5\" class=\"sk-top-container\"><div class=\"sk-text-repr-fallback\"><pre>Pipeline(steps=[(&#x27;polynomialfeatures&#x27;, PolynomialFeatures()),\n",
       "                (&#x27;standardscaler&#x27;, StandardScaler()),\n",
       "                (&#x27;linearregression&#x27;, LinearRegression())])</pre><b>In a Jupyter environment, please rerun this cell to show the HTML representation or trust the notebook. <br />On GitHub, the HTML representation is unable to render, please try loading this page with nbviewer.org.</b></div><div class=\"sk-container\" hidden><div class=\"sk-item sk-dashed-wrapped\"><div class=\"sk-label-container\"><div class=\"sk-label sk-toggleable\"><input class=\"sk-toggleable__control sk-hidden--visually\" id=\"sk-estimator-id-16\" type=\"checkbox\" ><label for=\"sk-estimator-id-16\" class=\"sk-toggleable__label sk-toggleable__label-arrow\">Pipeline</label><div class=\"sk-toggleable__content\"><pre>Pipeline(steps=[(&#x27;polynomialfeatures&#x27;, PolynomialFeatures()),\n",
       "                (&#x27;standardscaler&#x27;, StandardScaler()),\n",
       "                (&#x27;linearregression&#x27;, LinearRegression())])</pre></div></div></div><div class=\"sk-serial\"><div class=\"sk-item\"><div class=\"sk-estimator sk-toggleable\"><input class=\"sk-toggleable__control sk-hidden--visually\" id=\"sk-estimator-id-17\" type=\"checkbox\" ><label for=\"sk-estimator-id-17\" class=\"sk-toggleable__label sk-toggleable__label-arrow\">PolynomialFeatures</label><div class=\"sk-toggleable__content\"><pre>PolynomialFeatures()</pre></div></div></div><div class=\"sk-item\"><div class=\"sk-estimator sk-toggleable\"><input class=\"sk-toggleable__control sk-hidden--visually\" id=\"sk-estimator-id-18\" type=\"checkbox\" ><label for=\"sk-estimator-id-18\" class=\"sk-toggleable__label sk-toggleable__label-arrow\">StandardScaler</label><div class=\"sk-toggleable__content\"><pre>StandardScaler()</pre></div></div></div><div class=\"sk-item\"><div class=\"sk-estimator sk-toggleable\"><input class=\"sk-toggleable__control sk-hidden--visually\" id=\"sk-estimator-id-19\" type=\"checkbox\" ><label for=\"sk-estimator-id-19\" class=\"sk-toggleable__label sk-toggleable__label-arrow\">LinearRegression</label><div class=\"sk-toggleable__content\"><pre>LinearRegression()</pre></div></div></div></div></div></div></div>"
      ],
      "text/plain": [
       "Pipeline(steps=[('polynomialfeatures', PolynomialFeatures()),\n",
       "                ('standardscaler', StandardScaler()),\n",
       "                ('linearregression', LinearRegression())])"
      ]
     },
     "execution_count": 26,
     "metadata": {},
     "output_type": "execute_result"
    }
   ],
   "source": [
    "X_train_v2, X_test_v2, y_train_v2, y_test_v2 = train_test_split(cali.data,\n",
    "                                                               cali.target, \n",
    "                                                               random_state = 69)\n",
    "\n",
    "poly_lr_v2 = make_pipeline(PolynomialFeatures(), StandardScaler(), LinearRegression())\n",
    "\n",
    "poly_lr_v2.fit(X_train_v2, y_train_v2)"
   ]
  },
  {
   "cell_type": "code",
   "execution_count": 27,
   "id": "3cb85a31",
   "metadata": {
    "scrolled": true
   },
   "outputs": [
    {
     "name": "stdout",
     "output_type": "stream",
     "text": [
      "Train score: 0.689648550496945\n",
      "Test score: -0.005947614052453698\n"
     ]
    }
   ],
   "source": [
    "print(\"Train score: {}\".format(poly_lr_v2.score(X_train_v2, y_train_v2)))\n",
    "print(\"Test score: {}\".format(poly_lr_v2.score(X_test_v2, y_test_v2)))"
   ]
  },
  {
   "cell_type": "markdown",
   "id": "66d720b7",
   "metadata": {},
   "source": [
    "As you can see, the test score suddenly is very bad. \n",
    "It seems somehow that the random seed 42 is particularly favorable for polynomial features.\n",
    "To get a more stable validation of our model, we will look at **cross validation**."
   ]
  },
  {
   "cell_type": "markdown",
   "id": "66d96c29",
   "metadata": {},
   "source": [
    "### Cross-Validation"
   ]
  },
  {
   "cell_type": "markdown",
   "id": "01414f14",
   "metadata": {},
   "source": [
    "Cross-validation allows estimating the robustness of the model by repeating the splitting procedure. \n",
    "It will give several training and testing errors, depending on the number of iterations, and thus some estimate of the variability of the generalizing performance."
   ]
  },
  {
   "attachments": {
    "shufflesplit_diagram.png": {
     "image/png": "[encoded data removed]"
    }
   },
   "cell_type": "markdown",
   "id": "c04d6faa",
   "metadata": {},
   "source": [
    "There are different cross-validation strategies.\n",
    "We will illustrate the *shuffle-split*.\n",
    "At each iteration step, we perform the following actions:\n",
    "* Randomly shuffle the dataset\n",
    "* split the shuffled dataset into training and testing\n",
    "* train a *new* model on the training set\n",
    "* evaluate testing error on the testing set\n",
    "\n",
    "Here is an illustration of the shuffle-split with 5 iterations.\n",
    "![shufflesplit_diagram.png](attachment:shufflesplit_diagram.png)"
   ]
  },
  {
   "cell_type": "markdown",
   "id": "cb7dfd83",
   "metadata": {},
   "source": [
    "Let's apply this cross-validation technique to our example and look at the results.\n",
    "We will use 40 iteration steps."
   ]
  },
  {
   "cell_type": "code",
   "execution_count": 28,
   "id": "6b3aa077",
   "metadata": {},
   "outputs": [],
   "source": [
    "from sklearn.model_selection import cross_validate\n",
    "from sklearn.model_selection import ShuffleSplit\n",
    "\n",
    "cv = ShuffleSplit(n_splits=40, test_size=0.3, random_state=0)\n",
    "cv_results = cross_validate(poly_lr_v2, cali.data, cali.target, cv=cv)"
   ]
  },
  {
   "cell_type": "markdown",
   "id": "f7a6b600",
   "metadata": {},
   "source": [
    "The results are stored in a python dictionary.\n",
    "We convert it into a data frame for ease of use."
   ]
  },
  {
   "cell_type": "code",
   "execution_count": 30,
   "id": "f374b5ea",
   "metadata": {},
   "outputs": [
    {
     "data": {
      "text/html": [
       "<div>\n",
       "<style scoped>\n",
       "    .dataframe tbody tr th:only-of-type {\n",
       "        vertical-align: middle;\n",
       "    }\n",
       "\n",
       "    .dataframe tbody tr th {\n",
       "        vertical-align: top;\n",
       "    }\n",
       "\n",
       "    .dataframe thead th {\n",
       "        text-align: right;\n",
       "    }\n",
       "</style>\n",
       "<table border=\"1\" class=\"dataframe\">\n",
       "  <thead>\n",
       "    <tr style=\"text-align: right;\">\n",
       "      <th></th>\n",
       "      <th>fit_time</th>\n",
       "      <th>score_time</th>\n",
       "      <th>test_score</th>\n",
       "    </tr>\n",
       "  </thead>\n",
       "  <tbody>\n",
       "    <tr>\n",
       "      <th>0</th>\n",
       "      <td>0.038741</td>\n",
       "      <td>0.009495</td>\n",
       "      <td>-0.602854</td>\n",
       "    </tr>\n",
       "    <tr>\n",
       "      <th>1</th>\n",
       "      <td>0.043720</td>\n",
       "      <td>0.007727</td>\n",
       "      <td>-143.447444</td>\n",
       "    </tr>\n",
       "    <tr>\n",
       "      <th>2</th>\n",
       "      <td>0.049275</td>\n",
       "      <td>0.006568</td>\n",
       "      <td>-42.527035</td>\n",
       "    </tr>\n",
       "    <tr>\n",
       "      <th>3</th>\n",
       "      <td>0.055350</td>\n",
       "      <td>0.013019</td>\n",
       "      <td>-1.807898</td>\n",
       "    </tr>\n",
       "    <tr>\n",
       "      <th>4</th>\n",
       "      <td>0.045949</td>\n",
       "      <td>0.005408</td>\n",
       "      <td>0.197369</td>\n",
       "    </tr>\n",
       "    <tr>\n",
       "      <th>5</th>\n",
       "      <td>0.040568</td>\n",
       "      <td>0.005498</td>\n",
       "      <td>-104.996497</td>\n",
       "    </tr>\n",
       "    <tr>\n",
       "      <th>6</th>\n",
       "      <td>0.039838</td>\n",
       "      <td>0.005584</td>\n",
       "      <td>0.623708</td>\n",
       "    </tr>\n",
       "    <tr>\n",
       "      <th>7</th>\n",
       "      <td>0.037600</td>\n",
       "      <td>0.005157</td>\n",
       "      <td>-6.124259</td>\n",
       "    </tr>\n",
       "    <tr>\n",
       "      <th>8</th>\n",
       "      <td>0.038808</td>\n",
       "      <td>0.005064</td>\n",
       "      <td>-1.461666</td>\n",
       "    </tr>\n",
       "    <tr>\n",
       "      <th>9</th>\n",
       "      <td>0.039634</td>\n",
       "      <td>0.005307</td>\n",
       "      <td>-105.423014</td>\n",
       "    </tr>\n",
       "    <tr>\n",
       "      <th>10</th>\n",
       "      <td>0.037848</td>\n",
       "      <td>0.005513</td>\n",
       "      <td>-0.525038</td>\n",
       "    </tr>\n",
       "    <tr>\n",
       "      <th>11</th>\n",
       "      <td>0.037656</td>\n",
       "      <td>0.006117</td>\n",
       "      <td>0.659327</td>\n",
       "    </tr>\n",
       "    <tr>\n",
       "      <th>12</th>\n",
       "      <td>0.039502</td>\n",
       "      <td>0.005408</td>\n",
       "      <td>0.678712</td>\n",
       "    </tr>\n",
       "    <tr>\n",
       "      <th>13</th>\n",
       "      <td>0.039907</td>\n",
       "      <td>0.005233</td>\n",
       "      <td>-0.038899</td>\n",
       "    </tr>\n",
       "    <tr>\n",
       "      <th>14</th>\n",
       "      <td>0.040274</td>\n",
       "      <td>0.005766</td>\n",
       "      <td>0.305301</td>\n",
       "    </tr>\n",
       "    <tr>\n",
       "      <th>15</th>\n",
       "      <td>0.038638</td>\n",
       "      <td>0.005231</td>\n",
       "      <td>0.625314</td>\n",
       "    </tr>\n",
       "    <tr>\n",
       "      <th>16</th>\n",
       "      <td>0.037807</td>\n",
       "      <td>0.006519</td>\n",
       "      <td>-148.469786</td>\n",
       "    </tr>\n",
       "    <tr>\n",
       "      <th>17</th>\n",
       "      <td>0.039932</td>\n",
       "      <td>0.005238</td>\n",
       "      <td>0.263767</td>\n",
       "    </tr>\n",
       "    <tr>\n",
       "      <th>18</th>\n",
       "      <td>0.037877</td>\n",
       "      <td>0.005151</td>\n",
       "      <td>0.538640</td>\n",
       "    </tr>\n",
       "    <tr>\n",
       "      <th>19</th>\n",
       "      <td>0.038435</td>\n",
       "      <td>0.005615</td>\n",
       "      <td>0.479113</td>\n",
       "    </tr>\n",
       "    <tr>\n",
       "      <th>20</th>\n",
       "      <td>0.039235</td>\n",
       "      <td>0.005459</td>\n",
       "      <td>-1.310131</td>\n",
       "    </tr>\n",
       "    <tr>\n",
       "      <th>21</th>\n",
       "      <td>0.039336</td>\n",
       "      <td>0.005199</td>\n",
       "      <td>0.266036</td>\n",
       "    </tr>\n",
       "    <tr>\n",
       "      <th>22</th>\n",
       "      <td>0.038830</td>\n",
       "      <td>0.005191</td>\n",
       "      <td>-59.045214</td>\n",
       "    </tr>\n",
       "    <tr>\n",
       "      <th>23</th>\n",
       "      <td>0.038820</td>\n",
       "      <td>0.005661</td>\n",
       "      <td>0.660249</td>\n",
       "    </tr>\n",
       "    <tr>\n",
       "      <th>24</th>\n",
       "      <td>0.039085</td>\n",
       "      <td>0.006395</td>\n",
       "      <td>-69.065101</td>\n",
       "    </tr>\n",
       "    <tr>\n",
       "      <th>25</th>\n",
       "      <td>0.039628</td>\n",
       "      <td>0.005208</td>\n",
       "      <td>-0.087539</td>\n",
       "    </tr>\n",
       "    <tr>\n",
       "      <th>26</th>\n",
       "      <td>0.038791</td>\n",
       "      <td>0.005118</td>\n",
       "      <td>0.681769</td>\n",
       "    </tr>\n",
       "    <tr>\n",
       "      <th>27</th>\n",
       "      <td>0.038335</td>\n",
       "      <td>0.005058</td>\n",
       "      <td>0.675745</td>\n",
       "    </tr>\n",
       "    <tr>\n",
       "      <th>28</th>\n",
       "      <td>0.038506</td>\n",
       "      <td>0.005674</td>\n",
       "      <td>-113.512868</td>\n",
       "    </tr>\n",
       "    <tr>\n",
       "      <th>29</th>\n",
       "      <td>0.037610</td>\n",
       "      <td>0.005041</td>\n",
       "      <td>0.236611</td>\n",
       "    </tr>\n",
       "    <tr>\n",
       "      <th>30</th>\n",
       "      <td>0.038590</td>\n",
       "      <td>0.005095</td>\n",
       "      <td>0.624771</td>\n",
       "    </tr>\n",
       "    <tr>\n",
       "      <th>31</th>\n",
       "      <td>0.039189</td>\n",
       "      <td>0.005295</td>\n",
       "      <td>-84.432848</td>\n",
       "    </tr>\n",
       "    <tr>\n",
       "      <th>32</th>\n",
       "      <td>0.038314</td>\n",
       "      <td>0.005492</td>\n",
       "      <td>-1.196865</td>\n",
       "    </tr>\n",
       "    <tr>\n",
       "      <th>33</th>\n",
       "      <td>0.037260</td>\n",
       "      <td>0.005098</td>\n",
       "      <td>0.495632</td>\n",
       "    </tr>\n",
       "    <tr>\n",
       "      <th>34</th>\n",
       "      <td>0.038705</td>\n",
       "      <td>0.005115</td>\n",
       "      <td>-2.849087</td>\n",
       "    </tr>\n",
       "    <tr>\n",
       "      <th>35</th>\n",
       "      <td>0.038924</td>\n",
       "      <td>0.005551</td>\n",
       "      <td>0.187753</td>\n",
       "    </tr>\n",
       "    <tr>\n",
       "      <th>36</th>\n",
       "      <td>0.038852</td>\n",
       "      <td>0.006052</td>\n",
       "      <td>-37.101506</td>\n",
       "    </tr>\n",
       "    <tr>\n",
       "      <th>37</th>\n",
       "      <td>0.038393</td>\n",
       "      <td>0.005156</td>\n",
       "      <td>-1.347802</td>\n",
       "    </tr>\n",
       "    <tr>\n",
       "      <th>38</th>\n",
       "      <td>0.039538</td>\n",
       "      <td>0.005044</td>\n",
       "      <td>0.491036</td>\n",
       "    </tr>\n",
       "    <tr>\n",
       "      <th>39</th>\n",
       "      <td>0.039222</td>\n",
       "      <td>0.005155</td>\n",
       "      <td>0.633327</td>\n",
       "    </tr>\n",
       "  </tbody>\n",
       "</table>\n",
       "</div>"
      ],
      "text/plain": [
       "    fit_time  score_time  test_score\n",
       "0   0.038741    0.009495   -0.602854\n",
       "1   0.043720    0.007727 -143.447444\n",
       "2   0.049275    0.006568  -42.527035\n",
       "3   0.055350    0.013019   -1.807898\n",
       "4   0.045949    0.005408    0.197369\n",
       "5   0.040568    0.005498 -104.996497\n",
       "6   0.039838    0.005584    0.623708\n",
       "7   0.037600    0.005157   -6.124259\n",
       "8   0.038808    0.005064   -1.461666\n",
       "9   0.039634    0.005307 -105.423014\n",
       "10  0.037848    0.005513   -0.525038\n",
       "11  0.037656    0.006117    0.659327\n",
       "12  0.039502    0.005408    0.678712\n",
       "13  0.039907    0.005233   -0.038899\n",
       "14  0.040274    0.005766    0.305301\n",
       "15  0.038638    0.005231    0.625314\n",
       "16  0.037807    0.006519 -148.469786\n",
       "17  0.039932    0.005238    0.263767\n",
       "18  0.037877    0.005151    0.538640\n",
       "19  0.038435    0.005615    0.479113\n",
       "20  0.039235    0.005459   -1.310131\n",
       "21  0.039336    0.005199    0.266036\n",
       "22  0.038830    0.005191  -59.045214\n",
       "23  0.038820    0.005661    0.660249\n",
       "24  0.039085    0.006395  -69.065101\n",
       "25  0.039628    0.005208   -0.087539\n",
       "26  0.038791    0.005118    0.681769\n",
       "27  0.038335    0.005058    0.675745\n",
       "28  0.038506    0.005674 -113.512868\n",
       "29  0.037610    0.005041    0.236611\n",
       "30  0.038590    0.005095    0.624771\n",
       "31  0.039189    0.005295  -84.432848\n",
       "32  0.038314    0.005492   -1.196865\n",
       "33  0.037260    0.005098    0.495632\n",
       "34  0.038705    0.005115   -2.849087\n",
       "35  0.038924    0.005551    0.187753\n",
       "36  0.038852    0.006052  -37.101506\n",
       "37  0.038393    0.005156   -1.347802\n",
       "38  0.039538    0.005044    0.491036\n",
       "39  0.039222    0.005155    0.633327"
      ]
     },
     "execution_count": 30,
     "metadata": {},
     "output_type": "execute_result"
    }
   ],
   "source": [
    "results = pd.DataFrame(cv_results)\n",
    "results"
   ]
  },
  {
   "cell_type": "markdown",
   "id": "3a7a0a58",
   "metadata": {},
   "source": [
    "Let's look at the distribution of the scores."
   ]
  },
  {
   "cell_type": "code",
   "execution_count": 40,
   "id": "00bd1d0e",
   "metadata": {},
   "outputs": [
    {
     "data": {
      "image/png": "[encoded data removed]",
      "text/plain": [
       "<Figure size 640x480 with 1 Axes>"
      ]
     },
     "metadata": {},
     "output_type": "display_data"
    }
   ],
   "source": [
    "%matplotlib inline\n",
    "import matplotlib.pyplot as plt\n",
    "\n",
    "results[\"test_score\"].plot.hist(bins=180, edgecolor=\"black\")\n",
    "plt.xlabel(\"R2 score\")\n",
    "_ = plt.title(\"Test score distribution\")"
   ]
  },
  {
   "cell_type": "code",
   "execution_count": 42,
   "id": "9ee64882",
   "metadata": {},
   "outputs": [
    {
     "name": "stdout",
     "output_type": "stream",
     "text": [
      "-22.901229347859505\n",
      "43.93975503547355\n"
     ]
    }
   ],
   "source": [
    "print(results[\"test_score\"].mean())\n",
    "print(results[\"test_score\"].std())"
   ]
  },
  {
   "cell_type": "markdown",
   "id": "fd94583c",
   "metadata": {},
   "source": [
    "Let's also cross validate linear regression without polynomial features."
   ]
  },
  {
   "cell_type": "code",
   "execution_count": 44,
   "id": "9b527c48",
   "metadata": {},
   "outputs": [],
   "source": [
    "lr = make_pipeline(StandardScaler(), LinearRegression())\n",
    "no_poly_results = cross_validate(lr, cali.data, cali.target, cv=cv)"
   ]
  },
  {
   "cell_type": "code",
   "execution_count": 45,
   "id": "1f9837a6",
   "metadata": {},
   "outputs": [
    {
     "data": {
      "text/html": [
       "<div>\n",
       "<style scoped>\n",
       "    .dataframe tbody tr th:only-of-type {\n",
       "        vertical-align: middle;\n",
       "    }\n",
       "\n",
       "    .dataframe tbody tr th {\n",
       "        vertical-align: top;\n",
       "    }\n",
       "\n",
       "    .dataframe thead th {\n",
       "        text-align: right;\n",
       "    }\n",
       "</style>\n",
       "<table border=\"1\" class=\"dataframe\">\n",
       "  <thead>\n",
       "    <tr style=\"text-align: right;\">\n",
       "      <th></th>\n",
       "      <th>fit_time</th>\n",
       "      <th>score_time</th>\n",
       "      <th>test_score</th>\n",
       "    </tr>\n",
       "  </thead>\n",
       "  <tbody>\n",
       "    <tr>\n",
       "      <th>0</th>\n",
       "      <td>0.011929</td>\n",
       "      <td>0.003110</td>\n",
       "      <td>0.592609</td>\n",
       "    </tr>\n",
       "    <tr>\n",
       "      <th>1</th>\n",
       "      <td>0.009971</td>\n",
       "      <td>0.002403</td>\n",
       "      <td>0.595461</td>\n",
       "    </tr>\n",
       "    <tr>\n",
       "      <th>2</th>\n",
       "      <td>0.010385</td>\n",
       "      <td>0.002526</td>\n",
       "      <td>0.593190</td>\n",
       "    </tr>\n",
       "    <tr>\n",
       "      <th>3</th>\n",
       "      <td>0.009627</td>\n",
       "      <td>0.002746</td>\n",
       "      <td>0.622851</td>\n",
       "    </tr>\n",
       "    <tr>\n",
       "      <th>4</th>\n",
       "      <td>0.009569</td>\n",
       "      <td>0.003205</td>\n",
       "      <td>0.611378</td>\n",
       "    </tr>\n",
       "    <tr>\n",
       "      <th>5</th>\n",
       "      <td>0.015408</td>\n",
       "      <td>0.002541</td>\n",
       "      <td>0.599018</td>\n",
       "    </tr>\n",
       "    <tr>\n",
       "      <th>6</th>\n",
       "      <td>0.012698</td>\n",
       "      <td>0.002477</td>\n",
       "      <td>0.598391</td>\n",
       "    </tr>\n",
       "    <tr>\n",
       "      <th>7</th>\n",
       "      <td>0.011444</td>\n",
       "      <td>0.003126</td>\n",
       "      <td>0.614486</td>\n",
       "    </tr>\n",
       "    <tr>\n",
       "      <th>8</th>\n",
       "      <td>0.011904</td>\n",
       "      <td>0.002417</td>\n",
       "      <td>0.605993</td>\n",
       "    </tr>\n",
       "    <tr>\n",
       "      <th>9</th>\n",
       "      <td>0.009989</td>\n",
       "      <td>0.002261</td>\n",
       "      <td>0.584273</td>\n",
       "    </tr>\n",
       "    <tr>\n",
       "      <th>10</th>\n",
       "      <td>0.009196</td>\n",
       "      <td>0.002270</td>\n",
       "      <td>0.594567</td>\n",
       "    </tr>\n",
       "    <tr>\n",
       "      <th>11</th>\n",
       "      <td>0.008576</td>\n",
       "      <td>0.002390</td>\n",
       "      <td>0.596437</td>\n",
       "    </tr>\n",
       "    <tr>\n",
       "      <th>12</th>\n",
       "      <td>0.008371</td>\n",
       "      <td>0.002285</td>\n",
       "      <td>0.613990</td>\n",
       "    </tr>\n",
       "    <tr>\n",
       "      <th>13</th>\n",
       "      <td>0.010808</td>\n",
       "      <td>0.002355</td>\n",
       "      <td>0.603417</td>\n",
       "    </tr>\n",
       "    <tr>\n",
       "      <th>14</th>\n",
       "      <td>0.008301</td>\n",
       "      <td>0.002362</td>\n",
       "      <td>0.600169</td>\n",
       "    </tr>\n",
       "    <tr>\n",
       "      <th>15</th>\n",
       "      <td>0.008661</td>\n",
       "      <td>0.002493</td>\n",
       "      <td>0.586471</td>\n",
       "    </tr>\n",
       "    <tr>\n",
       "      <th>16</th>\n",
       "      <td>0.008200</td>\n",
       "      <td>0.002274</td>\n",
       "      <td>0.584677</td>\n",
       "    </tr>\n",
       "    <tr>\n",
       "      <th>17</th>\n",
       "      <td>0.008517</td>\n",
       "      <td>0.002680</td>\n",
       "      <td>0.614819</td>\n",
       "    </tr>\n",
       "    <tr>\n",
       "      <th>18</th>\n",
       "      <td>0.008322</td>\n",
       "      <td>0.002337</td>\n",
       "      <td>0.603754</td>\n",
       "    </tr>\n",
       "    <tr>\n",
       "      <th>19</th>\n",
       "      <td>0.008211</td>\n",
       "      <td>0.002655</td>\n",
       "      <td>0.604372</td>\n",
       "    </tr>\n",
       "    <tr>\n",
       "      <th>20</th>\n",
       "      <td>0.008111</td>\n",
       "      <td>0.002282</td>\n",
       "      <td>0.618561</td>\n",
       "    </tr>\n",
       "    <tr>\n",
       "      <th>21</th>\n",
       "      <td>0.007849</td>\n",
       "      <td>0.002177</td>\n",
       "      <td>0.613306</td>\n",
       "    </tr>\n",
       "    <tr>\n",
       "      <th>22</th>\n",
       "      <td>0.008377</td>\n",
       "      <td>0.002242</td>\n",
       "      <td>0.593784</td>\n",
       "    </tr>\n",
       "    <tr>\n",
       "      <th>23</th>\n",
       "      <td>0.008112</td>\n",
       "      <td>0.002308</td>\n",
       "      <td>0.589252</td>\n",
       "    </tr>\n",
       "    <tr>\n",
       "      <th>24</th>\n",
       "      <td>0.007782</td>\n",
       "      <td>0.002220</td>\n",
       "      <td>0.608126</td>\n",
       "    </tr>\n",
       "    <tr>\n",
       "      <th>25</th>\n",
       "      <td>0.009519</td>\n",
       "      <td>0.002327</td>\n",
       "      <td>0.605003</td>\n",
       "    </tr>\n",
       "    <tr>\n",
       "      <th>26</th>\n",
       "      <td>0.008155</td>\n",
       "      <td>0.002226</td>\n",
       "      <td>0.612908</td>\n",
       "    </tr>\n",
       "    <tr>\n",
       "      <th>27</th>\n",
       "      <td>0.007830</td>\n",
       "      <td>0.002324</td>\n",
       "      <td>0.612352</td>\n",
       "    </tr>\n",
       "    <tr>\n",
       "      <th>28</th>\n",
       "      <td>0.007871</td>\n",
       "      <td>0.002221</td>\n",
       "      <td>0.609495</td>\n",
       "    </tr>\n",
       "    <tr>\n",
       "      <th>29</th>\n",
       "      <td>0.008342</td>\n",
       "      <td>0.002221</td>\n",
       "      <td>0.589473</td>\n",
       "    </tr>\n",
       "    <tr>\n",
       "      <th>30</th>\n",
       "      <td>0.007882</td>\n",
       "      <td>0.002437</td>\n",
       "      <td>0.593360</td>\n",
       "    </tr>\n",
       "    <tr>\n",
       "      <th>31</th>\n",
       "      <td>0.007787</td>\n",
       "      <td>0.002190</td>\n",
       "      <td>0.599225</td>\n",
       "    </tr>\n",
       "    <tr>\n",
       "      <th>32</th>\n",
       "      <td>0.008133</td>\n",
       "      <td>0.002253</td>\n",
       "      <td>0.599836</td>\n",
       "    </tr>\n",
       "    <tr>\n",
       "      <th>33</th>\n",
       "      <td>0.007994</td>\n",
       "      <td>0.002516</td>\n",
       "      <td>0.579443</td>\n",
       "    </tr>\n",
       "    <tr>\n",
       "      <th>34</th>\n",
       "      <td>0.007912</td>\n",
       "      <td>0.002273</td>\n",
       "      <td>0.607647</td>\n",
       "    </tr>\n",
       "    <tr>\n",
       "      <th>35</th>\n",
       "      <td>0.008147</td>\n",
       "      <td>0.002211</td>\n",
       "      <td>0.598007</td>\n",
       "    </tr>\n",
       "    <tr>\n",
       "      <th>36</th>\n",
       "      <td>0.007929</td>\n",
       "      <td>0.002544</td>\n",
       "      <td>0.614038</td>\n",
       "    </tr>\n",
       "    <tr>\n",
       "      <th>37</th>\n",
       "      <td>0.007895</td>\n",
       "      <td>0.002226</td>\n",
       "      <td>0.600288</td>\n",
       "    </tr>\n",
       "    <tr>\n",
       "      <th>38</th>\n",
       "      <td>0.008305</td>\n",
       "      <td>0.002248</td>\n",
       "      <td>0.608138</td>\n",
       "    </tr>\n",
       "    <tr>\n",
       "      <th>39</th>\n",
       "      <td>0.008032</td>\n",
       "      <td>0.002353</td>\n",
       "      <td>0.594085</td>\n",
       "    </tr>\n",
       "  </tbody>\n",
       "</table>\n",
       "</div>"
      ],
      "text/plain": [
       "    fit_time  score_time  test_score\n",
       "0   0.011929    0.003110    0.592609\n",
       "1   0.009971    0.002403    0.595461\n",
       "2   0.010385    0.002526    0.593190\n",
       "3   0.009627    0.002746    0.622851\n",
       "4   0.009569    0.003205    0.611378\n",
       "5   0.015408    0.002541    0.599018\n",
       "6   0.012698    0.002477    0.598391\n",
       "7   0.011444    0.003126    0.614486\n",
       "8   0.011904    0.002417    0.605993\n",
       "9   0.009989    0.002261    0.584273\n",
       "10  0.009196    0.002270    0.594567\n",
       "11  0.008576    0.002390    0.596437\n",
       "12  0.008371    0.002285    0.613990\n",
       "13  0.010808    0.002355    0.603417\n",
       "14  0.008301    0.002362    0.600169\n",
       "15  0.008661    0.002493    0.586471\n",
       "16  0.008200    0.002274    0.584677\n",
       "17  0.008517    0.002680    0.614819\n",
       "18  0.008322    0.002337    0.603754\n",
       "19  0.008211    0.002655    0.604372\n",
       "20  0.008111    0.002282    0.618561\n",
       "21  0.007849    0.002177    0.613306\n",
       "22  0.008377    0.002242    0.593784\n",
       "23  0.008112    0.002308    0.589252\n",
       "24  0.007782    0.002220    0.608126\n",
       "25  0.009519    0.002327    0.605003\n",
       "26  0.008155    0.002226    0.612908\n",
       "27  0.007830    0.002324    0.612352\n",
       "28  0.007871    0.002221    0.609495\n",
       "29  0.008342    0.002221    0.589473\n",
       "30  0.007882    0.002437    0.593360\n",
       "31  0.007787    0.002190    0.599225\n",
       "32  0.008133    0.002253    0.599836\n",
       "33  0.007994    0.002516    0.579443\n",
       "34  0.007912    0.002273    0.607647\n",
       "35  0.008147    0.002211    0.598007\n",
       "36  0.007929    0.002544    0.614038\n",
       "37  0.007895    0.002226    0.600288\n",
       "38  0.008305    0.002248    0.608138\n",
       "39  0.008032    0.002353    0.594085"
      ]
     },
     "execution_count": 45,
     "metadata": {},
     "output_type": "execute_result"
    }
   ],
   "source": [
    "no_poly_results = pd.DataFrame(no_poly_results)\n",
    "no_poly_results"
   ]
  },
  {
   "cell_type": "code",
   "execution_count": 46,
   "id": "cbea3dfb",
   "metadata": {},
   "outputs": [
    {
     "data": {
      "image/png": "[encoded data removed]",
      "text/plain": [
       "<Figure size 640x480 with 1 Axes>"
      ]
     },
     "metadata": {},
     "output_type": "display_data"
    }
   ],
   "source": [
    "no_poly_results[\"test_score\"].plot.hist(bins=180, edgecolor=\"black\")\n",
    "plt.xlabel(\"R2 score\")\n",
    "_ = plt.title(\"Test score distribution\")"
   ]
  },
  {
   "cell_type": "markdown",
   "id": "e95f5448",
   "metadata": {},
   "source": [
    "To get more information, we should also look at the target distribution.\n"
   ]
  },
  {
   "cell_type": "code",
   "execution_count": 47,
   "id": "92c1917c",
   "metadata": {},
   "outputs": [
    {
     "data": {
      "image/png": "[encoded data removed]",
      "text/plain": [
       "<Figure size 640x480 with 1 Axes>"
      ]
     },
     "metadata": {},
     "output_type": "display_data"
    }
   ],
   "source": [
    "cali.target.plot.hist(bins=20, edgecolor=\"black\")\n",
    "plt.xlabel(\"Median House Value (k$)\")\n",
    "_ = plt.title(\"Target distribution\")"
   ]
  },
  {
   "cell_type": "markdown",
   "id": "8a97b444",
   "metadata": {},
   "source": [
    "We see that there some extreme values (which are capped off), could this be the reason why having polynomial features performs worse?"
   ]
  },
  {
   "cell_type": "markdown",
   "id": "f72a37e1",
   "metadata": {},
   "source": [
    "# Exercise Class Competition"
   ]
  },
  {
   "cell_type": "markdown",
   "id": "72f4a9ef",
   "metadata": {},
   "source": [
    "Create a good model for the California housing regression problem!\n"
   ]
  },
  {
   "cell_type": "markdown",
   "id": "c3bdcbba",
   "metadata": {},
   "source": [
    "* You will be able to share your results on grips\n",
    "* We will also modify the dataset and keep a test set separate and you can evaluate on the test set next week\n",
    "* Whoever gets the best score will get a beverage of their choice and should present their solution in the exercise class\n",
    "* You are free to use any resources and algorithms you like but you should be able to explain what you are doing"
   ]
  },
  {
   "cell_type": "markdown",
   "id": "4ede45c8",
   "metadata": {},
   "source": [
    "The best $R^2$ score I could find online was around .8."
   ]
  },
  {
   "cell_type": "code",
   "execution_count": null,
   "id": "bccc14ed",
   "metadata": {},
   "outputs": [],
   "source": []
  }
 ],
 "metadata": {
  "kernelspec": {
   "display_name": "Python 3 (ipykernel)",
   "language": "python",
   "name": "python3"
  },
  "language_info": {
   "codemirror_mode": {
    "name": "ipython",
    "version": 3
   },
   "file_extension": ".py",
   "mimetype": "text/x-python",
   "name": "python",
   "nbconvert_exporter": "python",
   "pygments_lexer": "ipython3",
   "version": "3.11.5"
  }
 },
 "nbformat": 4,
 "nbformat_minor": 5
}
