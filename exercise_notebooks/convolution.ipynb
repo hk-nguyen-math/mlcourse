{
 "cells": [
  {
   "cell_type": "markdown",
   "id": "b40abedb-fdfb-4c14-900c-68352c3b063f",
   "metadata": {},
   "source": [
    "# Convolutional Neural Networks\n",
    "\n",
    "In this notebook we will be taking a closer look at convolutional neural networks.\n",
    "We will use the `MNIST` dataset for this, so let's load this."
   ]
  },
  {
   "cell_type": "code",
   "execution_count": 2,
   "id": "1892f845-f281-4640-a9ba-83719b8108f1",
   "metadata": {},
   "outputs": [],
   "source": [
    "import pandas as pd\n",
    "\n",
    "mnist_train = pd.read_csv('train.csv')\n",
    "mnist_test = pd.read_csv('test.csv')"
   ]
  },
  {
   "cell_type": "markdown",
   "id": "f1fb37b9-3a89-445d-9515-620224b78f1d",
   "metadata": {},
   "source": [
    "### Preparing the data\n",
    "\n",
    "We need to transform the dataset in order to use it in a convolutional neural network.\n",
    "First we need to separate the labels from the training set."
   ]
  },
  {
   "cell_type": "code",
   "execution_count": 3,
   "id": "c36071b9-d885-4e68-9065-e25bf906f255",
   "metadata": {},
   "outputs": [],
   "source": [
    "y = mnist_train['label']\n",
    "X = mnist_train.drop(columns = 'label')"
   ]
  },
  {
   "cell_type": "markdown",
   "id": "e78cba89-3caf-4f7f-abbd-7cf943ccf750",
   "metadata": {},
   "source": [
    "The first thing we need to do is to encode the labels.\n",
    "We want to perform a classification task, thus we want to minimize a classification loss function.\n",
    "In order to be able to do this in `Keras`, we need categorical labels."
   ]
  },
  {
   "cell_type": "code",
   "execution_count": 4,
   "id": "0c0b76fe-ad52-44eb-a0da-b7191e73cddf",
   "metadata": {},
   "outputs": [
    {
     "name": "stderr",
     "output_type": "stream",
     "text": [
      "2024-01-24 20:28:01.524611: I tensorflow/core/platform/cpu_feature_guard.cc:182] This TensorFlow binary is optimized to use available CPU instructions in performance-critical operations.\n",
      "To enable the following instructions: AVX2 FMA, in other operations, rebuild TensorFlow with the appropriate compiler flags.\n"
     ]
    }
   ],
   "source": [
    "from keras.utils import to_categorical\n",
    "\n",
    "y = to_categorical(y, num_classes = 10)"
   ]
  },
  {
   "cell_type": "markdown",
   "id": "75f7ae15-3495-459f-a1bd-794699a11188",
   "metadata": {},
   "source": [
    "Next, `Keras` expects *tensors* as input.\n",
    "Moreover, we want our input values to lie between 0 and 1.\n",
    "So we need to transform our training set."
   ]
  },
  {
   "cell_type": "code",
   "execution_count": 5,
   "id": "07dd61ce-71cc-428e-a98a-7f0ecc11f702",
   "metadata": {},
   "outputs": [],
   "source": [
    "from sklearn.preprocessing import MinMaxScaler\n",
    "\n",
    "scaler = MinMaxScaler().set_output(transform = 'pandas')\n",
    "scaler.fit(X)\n",
    "X = scaler.transform(X)"
   ]
  },
  {
   "cell_type": "code",
   "execution_count": 6,
   "id": "80347fb0-17b3-4d3c-af42-db0898ac5049",
   "metadata": {},
   "outputs": [],
   "source": [
    "X = X.values.reshape(-1, 28, 28, 1)"
   ]
  },
  {
   "cell_type": "markdown",
   "id": "1ff9916d-0308-4674-a7a5-2948f1c7e81d",
   "metadata": {},
   "source": [
    "Let's check."
   ]
  },
  {
   "cell_type": "code",
   "execution_count": 7,
   "id": "cd461de7-72b8-477f-ab31-27610fdd1e15",
   "metadata": {},
   "outputs": [
    {
     "data": {
      "image/png": "[encoded data removed]",
      "text/plain": [
       "<Figure size 640x480 with 1 Axes>"
      ]
     },
     "metadata": {},
     "output_type": "display_data"
    }
   ],
   "source": [
    "import matplotlib.pyplot as plt\n",
    "\n",
    "_ = plt.imshow(X[3], cmap='gray')"
   ]
  },
  {
   "cell_type": "markdown",
   "id": "704cc256-3733-4879-bbeb-044d921a127a",
   "metadata": {},
   "source": [
    "### Building the network"
   ]
  },
  {
   "cell_type": "code",
   "execution_count": 8,
   "id": "d762848b-485e-49b4-b03e-16689be6f246",
   "metadata": {},
   "outputs": [],
   "source": [
    "from keras import Sequential\n",
    "from keras.layers import Conv2D, MaxPool2D, Flatten, Dense, Dropout\n",
    "from keras.optimizers import Adam"
   ]
  },
  {
   "cell_type": "markdown",
   "id": "72bd7e81-90d3-444b-8cb3-c7e495a89c40",
   "metadata": {},
   "source": [
    "We will be building a simple network here based on *LeNet5*."
   ]
  },
  {
   "cell_type": "code",
   "execution_count": 9,
   "id": "1b1ce0f4-8650-442e-9fb7-c8a291cdb42d",
   "metadata": {},
   "outputs": [],
   "source": [
    "input_shape = (28, 28, 1)\n",
    "\n",
    "model = Sequential()\n",
    "\n",
    "# Convolution layer 1\n",
    "model.add(Conv2D(\n",
    "    filters = 6,\n",
    "    strides = (1,1),\n",
    "    kernel_size = (5,5),\n",
    "    activation = 'ReLU',\n",
    "    input_shape = input_shape\n",
    "))\n",
    "\n",
    "# Pooling layer 1\n",
    "model.add(MaxPool2D(pool_size=(2,2), strides=(2,2)))\n",
    "\n",
    "# Convolution layer 2\n",
    "model.add(Conv2D(\n",
    "    filters = 12,\n",
    "    strides = (1,1),\n",
    "    kernel_size = (5,5),\n",
    "    activation = 'ReLU'\n",
    "))\n",
    "\n",
    "# Pooling layer 2\n",
    "model.add(MaxPool2D(pool_size=(2,2), strides=(2,2)))\n",
    "\n",
    "# Flatten\n",
    "model.add(Flatten())\n",
    "\n",
    "# FC FF Layer 1\n",
    "model.add(Dense(units=120, activation='ReLU'))\n",
    "\n",
    "# FC FF Layer 2\n",
    "model.add(Dense(units=84, activation='ReLU'))\n",
    "\n",
    "# Output Layer\n",
    "model.add(Dense(units=10, activation='softmax'))"
   ]
  },
  {
   "cell_type": "code",
   "execution_count": 10,
   "id": "85f36e89-ed4d-42f2-b34d-866c67a69f1a",
   "metadata": {},
   "outputs": [
    {
     "name": "stdout",
     "output_type": "stream",
     "text": [
      "Model: \"sequential\"\n",
      "_________________________________________________________________\n",
      " Layer (type)                Output Shape              Param #   \n",
      "=================================================================\n",
      " conv2d (Conv2D)             (None, 24, 24, 6)         156       \n",
      "                                                                 \n",
      " max_pooling2d (MaxPooling2  (None, 12, 12, 6)         0         \n",
      " D)                                                              \n",
      "                                                                 \n",
      " conv2d_1 (Conv2D)           (None, 8, 8, 12)          1812      \n",
      "                                                                 \n",
      " max_pooling2d_1 (MaxPoolin  (None, 4, 4, 12)          0         \n",
      " g2D)                                                            \n",
      "                                                                 \n",
      " flatten (Flatten)           (None, 192)               0         \n",
      "                                                                 \n",
      " dense (Dense)               (None, 120)               23160     \n",
      "                                                                 \n",
      " dense_1 (Dense)             (None, 84)                10164     \n",
      "                                                                 \n",
      " dense_2 (Dense)             (None, 10)                850       \n",
      "                                                                 \n",
      "=================================================================\n",
      "Total params: 36142 (141.18 KB)\n",
      "Trainable params: 36142 (141.18 KB)\n",
      "Non-trainable params: 0 (0.00 Byte)\n",
      "_________________________________________________________________\n"
     ]
    }
   ],
   "source": [
    "#Optimizer\n",
    "optimizer = Adam(learning_rate=0.001, beta_1=0.9, beta_2=0.999 )\n",
    "\n",
    "# Compiling\n",
    "\n",
    "model.compile(loss = 'categorical_crossentropy', optimizer = optimizer, metrics=['accuracy'])\n",
    "\n",
    "model.summary()"
   ]
  },
  {
   "cell_type": "markdown",
   "id": "59a88b01-0175-48dd-8335-fd35cdbc3e38",
   "metadata": {},
   "source": [
    "### Training"
   ]
  },
  {
   "cell_type": "code",
   "execution_count": 11,
   "id": "4e09471b-2f0c-4df8-8ef8-c7262f873907",
   "metadata": {},
   "outputs": [
    {
     "name": "stdout",
     "output_type": "stream",
     "text": [
      "Epoch 1/10\n",
      "329/329 [==============================] - 9s 24ms/step - loss: 0.4418 - accuracy: 0.8681\n",
      "Epoch 2/10\n",
      "329/329 [==============================] - 8s 24ms/step - loss: 0.1035 - accuracy: 0.9677\n",
      "Epoch 3/10\n",
      "329/329 [==============================] - 8s 24ms/step - loss: 0.0726 - accuracy: 0.9771\n",
      "Epoch 4/10\n",
      "329/329 [==============================] - 8s 24ms/step - loss: 0.0578 - accuracy: 0.9817\n",
      "Epoch 5/10\n",
      "329/329 [==============================] - 8s 23ms/step - loss: 0.0498 - accuracy: 0.9840\n",
      "Epoch 6/10\n",
      "329/329 [==============================] - 8s 24ms/step - loss: 0.0418 - accuracy: 0.9862\n",
      "Epoch 7/10\n",
      "329/329 [==============================] - 8s 24ms/step - loss: 0.0372 - accuracy: 0.9879\n",
      "Epoch 8/10\n",
      "329/329 [==============================] - 8s 24ms/step - loss: 0.0333 - accuracy: 0.9892\n",
      "Epoch 9/10\n",
      "329/329 [==============================] - 8s 24ms/step - loss: 0.0278 - accuracy: 0.9906\n",
      "Epoch 10/10\n",
      "329/329 [==============================] - 8s 24ms/step - loss: 0.0244 - accuracy: 0.9919\n"
     ]
    }
   ],
   "source": [
    "epochs = 10\n",
    "history = model.fit(X, y, epochs=epochs,batch_size=128, verbose=1)"
   ]
  },
  {
   "cell_type": "markdown",
   "id": "c04b2012-c07b-4242-9264-ad704417c4a9",
   "metadata": {},
   "source": [
    "Note, we did not pass a validation set in `Keras`.\n",
    "It is not clear to me how to use this."
   ]
  },
  {
   "cell_type": "markdown",
   "id": "cf36c062-fa4d-4c24-bce8-63073632f10a",
   "metadata": {},
   "source": [
    "## A closer look"
   ]
  },
  {
   "cell_type": "markdown",
   "id": "c1756829-fcb5-4666-bf70-11e3b7c135ba",
   "metadata": {},
   "source": [
    "In order to better understand how a convolutional neural network works, we will pass an image through each stage of the neural network.\n",
    "Let's first look at filters and convolution.\n",
    "The convolution operation used in convolutional neural networks is *not* the usual mathematical convolution operation.\n",
    "The usual convolution involves a reflection of the kernel.\n",
    "As the weights of the kernel are obtaind from training, this reflection will be automatically learned, hence is unnecessary.\n",
    "We have:\n",
    "* 'convolution' = cross-correlation\n",
    "* 'Filter' = convolution kernel"
   ]
  },
  {
   "cell_type": "markdown",
   "id": "d4323e2e-ae29-471b-bfe6-bde782263c04",
   "metadata": {},
   "source": [
    "### Filters"
   ]
  },
  {
   "cell_type": "code",
   "execution_count": 12,
   "id": "7cba46e8-2daa-4052-b0f3-2931b03245ca",
   "metadata": {},
   "outputs": [
    {
     "data": {
      "text/html": [
       "<div>\n",
       "<style scoped>\n",
       "    .dataframe tbody tr th:only-of-type {\n",
       "        vertical-align: middle;\n",
       "    }\n",
       "\n",
       "    .dataframe tbody tr th {\n",
       "        vertical-align: top;\n",
       "    }\n",
       "\n",
       "    .dataframe thead th {\n",
       "        text-align: right;\n",
       "    }\n",
       "</style>\n",
       "<table border=\"1\" class=\"dataframe\">\n",
       "  <thead>\n",
       "    <tr style=\"text-align: right;\">\n",
       "      <th></th>\n",
       "      <th>label</th>\n",
       "      <th>pixel0</th>\n",
       "      <th>pixel1</th>\n",
       "      <th>pixel2</th>\n",
       "      <th>pixel3</th>\n",
       "      <th>pixel4</th>\n",
       "      <th>pixel5</th>\n",
       "      <th>pixel6</th>\n",
       "      <th>pixel7</th>\n",
       "      <th>pixel8</th>\n",
       "      <th>...</th>\n",
       "      <th>pixel774</th>\n",
       "      <th>pixel775</th>\n",
       "      <th>pixel776</th>\n",
       "      <th>pixel777</th>\n",
       "      <th>pixel778</th>\n",
       "      <th>pixel779</th>\n",
       "      <th>pixel780</th>\n",
       "      <th>pixel781</th>\n",
       "      <th>pixel782</th>\n",
       "      <th>pixel783</th>\n",
       "    </tr>\n",
       "  </thead>\n",
       "  <tbody>\n",
       "    <tr>\n",
       "      <th>0</th>\n",
       "      <td>1</td>\n",
       "      <td>0</td>\n",
       "      <td>0</td>\n",
       "      <td>0</td>\n",
       "      <td>0</td>\n",
       "      <td>0</td>\n",
       "      <td>0</td>\n",
       "      <td>0</td>\n",
       "      <td>0</td>\n",
       "      <td>0</td>\n",
       "      <td>...</td>\n",
       "      <td>0</td>\n",
       "      <td>0</td>\n",
       "      <td>0</td>\n",
       "      <td>0</td>\n",
       "      <td>0</td>\n",
       "      <td>0</td>\n",
       "      <td>0</td>\n",
       "      <td>0</td>\n",
       "      <td>0</td>\n",
       "      <td>0</td>\n",
       "    </tr>\n",
       "    <tr>\n",
       "      <th>1</th>\n",
       "      <td>0</td>\n",
       "      <td>0</td>\n",
       "      <td>0</td>\n",
       "      <td>0</td>\n",
       "      <td>0</td>\n",
       "      <td>0</td>\n",
       "      <td>0</td>\n",
       "      <td>0</td>\n",
       "      <td>0</td>\n",
       "      <td>0</td>\n",
       "      <td>...</td>\n",
       "      <td>0</td>\n",
       "      <td>0</td>\n",
       "      <td>0</td>\n",
       "      <td>0</td>\n",
       "      <td>0</td>\n",
       "      <td>0</td>\n",
       "      <td>0</td>\n",
       "      <td>0</td>\n",
       "      <td>0</td>\n",
       "      <td>0</td>\n",
       "    </tr>\n",
       "    <tr>\n",
       "      <th>2</th>\n",
       "      <td>1</td>\n",
       "      <td>0</td>\n",
       "      <td>0</td>\n",
       "      <td>0</td>\n",
       "      <td>0</td>\n",
       "      <td>0</td>\n",
       "      <td>0</td>\n",
       "      <td>0</td>\n",
       "      <td>0</td>\n",
       "      <td>0</td>\n",
       "      <td>...</td>\n",
       "      <td>0</td>\n",
       "      <td>0</td>\n",
       "      <td>0</td>\n",
       "      <td>0</td>\n",
       "      <td>0</td>\n",
       "      <td>0</td>\n",
       "      <td>0</td>\n",
       "      <td>0</td>\n",
       "      <td>0</td>\n",
       "      <td>0</td>\n",
       "    </tr>\n",
       "    <tr>\n",
       "      <th>3</th>\n",
       "      <td>4</td>\n",
       "      <td>0</td>\n",
       "      <td>0</td>\n",
       "      <td>0</td>\n",
       "      <td>0</td>\n",
       "      <td>0</td>\n",
       "      <td>0</td>\n",
       "      <td>0</td>\n",
       "      <td>0</td>\n",
       "      <td>0</td>\n",
       "      <td>...</td>\n",
       "      <td>0</td>\n",
       "      <td>0</td>\n",
       "      <td>0</td>\n",
       "      <td>0</td>\n",
       "      <td>0</td>\n",
       "      <td>0</td>\n",
       "      <td>0</td>\n",
       "      <td>0</td>\n",
       "      <td>0</td>\n",
       "      <td>0</td>\n",
       "    </tr>\n",
       "    <tr>\n",
       "      <th>4</th>\n",
       "      <td>0</td>\n",
       "      <td>0</td>\n",
       "      <td>0</td>\n",
       "      <td>0</td>\n",
       "      <td>0</td>\n",
       "      <td>0</td>\n",
       "      <td>0</td>\n",
       "      <td>0</td>\n",
       "      <td>0</td>\n",
       "      <td>0</td>\n",
       "      <td>...</td>\n",
       "      <td>0</td>\n",
       "      <td>0</td>\n",
       "      <td>0</td>\n",
       "      <td>0</td>\n",
       "      <td>0</td>\n",
       "      <td>0</td>\n",
       "      <td>0</td>\n",
       "      <td>0</td>\n",
       "      <td>0</td>\n",
       "      <td>0</td>\n",
       "    </tr>\n",
       "  </tbody>\n",
       "</table>\n",
       "<p>5 rows × 785 columns</p>\n",
       "</div>"
      ],
      "text/plain": [
       "   label  pixel0  pixel1  pixel2  pixel3  pixel4  pixel5  pixel6  pixel7  \\\n",
       "0      1       0       0       0       0       0       0       0       0   \n",
       "1      0       0       0       0       0       0       0       0       0   \n",
       "2      1       0       0       0       0       0       0       0       0   \n",
       "3      4       0       0       0       0       0       0       0       0   \n",
       "4      0       0       0       0       0       0       0       0       0   \n",
       "\n",
       "   pixel8  ...  pixel774  pixel775  pixel776  pixel777  pixel778  pixel779  \\\n",
       "0       0  ...         0         0         0         0         0         0   \n",
       "1       0  ...         0         0         0         0         0         0   \n",
       "2       0  ...         0         0         0         0         0         0   \n",
       "3       0  ...         0         0         0         0         0         0   \n",
       "4       0  ...         0         0         0         0         0         0   \n",
       "\n",
       "   pixel780  pixel781  pixel782  pixel783  \n",
       "0         0         0         0         0  \n",
       "1         0         0         0         0  \n",
       "2         0         0         0         0  \n",
       "3         0         0         0         0  \n",
       "4         0         0         0         0  \n",
       "\n",
       "[5 rows x 785 columns]"
      ]
     },
     "execution_count": 12,
     "metadata": {},
     "output_type": "execute_result"
    }
   ],
   "source": [
    "mnist_train.head()"
   ]
  },
  {
   "cell_type": "markdown",
   "id": "7f862f7b-9e5c-4334-aa2a-1ae5d261dc54",
   "metadata": {},
   "source": [
    "Filters originate from signal processing and inherit their name in machine learning instead of kernels.\n",
    "You might now the Gaussian filter, which smoothes out edges in an image.\n",
    "Here is how the convolution operation is defined classically:\n",
    "Suppose we have integrable functions $f,g: \\mathbb R^n \\to \\mathbb R$, then we have\n",
    "\n",
    "$$ f * g (x) = \\int f(t) g(x-t) dt $$\n",
    "\n",
    "You can work out what this means in the discrete case. Notice that we are reflecting $g$. \n",
    "The function $g$ is also called *convolution kernel* or *filter*.\n",
    "When we are not reflecting the kernel, the operation is called *cross correlation*.\n",
    "This is in general used for convolutional neural networks, since such a network is supposed to learn the reflection."
   ]
  },
  {
   "cell_type": "markdown",
   "id": "1408c2a6-8cb1-4e6d-80d1-a7b4bd7a2f6d",
   "metadata": {},
   "source": [
    "From now on we will follow machine learning practice and refer to cross correlation as convolution."
   ]
  },
  {
   "cell_type": "markdown",
   "id": "38ad95a7-58a2-43a4-89b7-b0ce64374aa9",
   "metadata": {},
   "source": [
    "We treat the higher dimensions only for discrete functions.\n",
    "The idea for higher dimensions is to convolve and then add the results.\n",
    "Here is the formula for matrices.\n",
    "Suppose $T$ is a $(p, q)$ matrix and $W$ is a $(m, n)$ matrix. \n",
    "We will always assume that the kernel is smaller than the input.\n",
    "Then we have\n",
    "\n",
    "$$ T * W (i,j) = \\sum_{k=0}^n \\sum_{l=0}^m x_{i+k, j+l} w_{k,l} $$\n",
    "\n",
    "The resulting matrix will have have a dimension of $(m-p+1, n-q+1)$."
   ]
  },
  {
   "cell_type": "markdown",
   "id": "3384cfba-1c6c-4747-955e-3e95ae5555c0",
   "metadata": {},
   "source": [
    "Here is a quick example."
   ]
  },
  {
   "cell_type": "code",
   "execution_count": 13,
   "id": "e89dfe5a-2ab3-4827-99e8-f96880b8013c",
   "metadata": {},
   "outputs": [
    {
     "data": {
      "text/plain": [
       "array([[19, 25],\n",
       "       [37, 43]])"
      ]
     },
     "execution_count": 13,
     "metadata": {},
     "output_type": "execute_result"
    }
   ],
   "source": [
    "import numpy as np\n",
    "from scipy import signal\n",
    "\n",
    "T = np.array([[0, 1, 2],\n",
    "              [ 3, 4, 5],\n",
    "              [6, 7, 8]])\n",
    "W = np.array([[0,1],\n",
    "              [2,3]])\n",
    "\n",
    "Z = signal.correlate(T,W, mode='valid')\n",
    "Z"
   ]
  },
  {
   "cell_type": "markdown",
   "id": "f62cdee3-283a-4dcc-a21d-fc288bf81e34",
   "metadata": {},
   "source": [
    "In image processing, we usually have as input tensors, which really are just higher dimensional arrays.\n",
    "To perform a convolution, we just perform the matrix convolution for each dimension and then summing up the result."
   ]
  },
  {
   "cell_type": "markdown",
   "id": "adde48d0-6ef7-4d2d-8240-a98e04acba94",
   "metadata": {},
   "source": [
    "Now, let's see how a filter works in image processing.\n",
    "The idea is that the filter combs through the input and records if the image is similar to its shape.\n",
    "Here is a filter looking for vertical lines."
   ]
  },
  {
   "cell_type": "code",
   "execution_count": 14,
   "id": "246fdd3d-a9b4-4dda-a694-ae775bde4eeb",
   "metadata": {},
   "outputs": [],
   "source": [
    "filter = np.array([[0, 1, 0],\n",
    "          [0, 1, 0],\n",
    "          [0, 1, 0]])\n",
    "filter = np.expand_dims(filter, axis=2)"
   ]
  },
  {
   "cell_type": "code",
   "execution_count": 15,
   "id": "c71232ec-ec05-4b46-9170-ebf01c9e4f66",
   "metadata": {},
   "outputs": [
    {
     "data": {
      "image/png": "[encoded data removed]",
      "text/plain": [
       "<Figure size 640x480 with 1 Axes>"
      ]
     },
     "metadata": {},
     "output_type": "display_data"
    }
   ],
   "source": [
    "_ = plt.imshow(filter, cmap='gray')"
   ]
  },
  {
   "cell_type": "markdown",
   "id": "d294d000-8f98-4441-ba73-76d17749516b",
   "metadata": {},
   "source": [
    "We needed to expand the dimensions, as our input has a single grayscale channel.\n",
    "The dimension always have to match.\n",
    "Let's pick a number from our dataset."
   ]
  },
  {
   "cell_type": "code",
   "execution_count": 16,
   "id": "df992a17-4e9b-4539-ad0c-7c4ab971b05f",
   "metadata": {},
   "outputs": [
    {
     "data": {
      "text/plain": [
       "(26, 26, 1)"
      ]
     },
     "execution_count": 16,
     "metadata": {},
     "output_type": "execute_result"
    }
   ],
   "source": [
    "filtered = signal.convolve(X[3], filter, mode='valid')\n",
    "filtered.shape"
   ]
  },
  {
   "cell_type": "code",
   "execution_count": 17,
   "id": "a9b4d3b8-3380-4972-ab5d-4e2605b0b8e9",
   "metadata": {},
   "outputs": [
    {
     "data": {
      "image/png": "[encoded data removed]",
      "text/plain": [
       "<Figure size 640x480 with 2 Axes>"
      ]
     },
     "metadata": {},
     "output_type": "display_data"
    }
   ],
   "source": [
    "f, axarr = plt.subplots(1,2)\n",
    "_ = axarr[0].imshow(X[3], cmap='gray')\n",
    "_ = axarr[1].imshow(filtered, cmap='gray')"
   ]
  },
  {
   "cell_type": "markdown",
   "id": "285448f8-fcfc-4b67-86f6-607f48a17112",
   "metadata": {},
   "source": [
    "Let's see how a different filter works."
   ]
  },
  {
   "cell_type": "code",
   "execution_count": 19,
   "id": "2eaaffd6-568e-405f-8db7-fba427559367",
   "metadata": {},
   "outputs": [
    {
     "data": {
      "image/png": "[encoded data removed]",
      "text/plain": [
       "<Figure size 640x480 with 1 Axes>"
      ]
     },
     "metadata": {},
     "output_type": "display_data"
    }
   ],
   "source": [
    "filter2 = np.array([[0, 0, 1],\n",
    "          [0, 1, 0],\n",
    "          [1, 0, 0]])\n",
    "filter2 = np.expand_dims(filter2, axis=2)\n",
    "\n",
    "_ = plt.imshow(filter2, cmap='gray')"
   ]
  },
  {
   "cell_type": "code",
   "execution_count": 20,
   "id": "f61e17ca-73b9-4f35-a420-ba516b38bfff",
   "metadata": {},
   "outputs": [
    {
     "data": {
      "image/png": "[encoded data removed]",
      "text/plain": [
       "<Figure size 640x480 with 2 Axes>"
      ]
     },
     "metadata": {},
     "output_type": "display_data"
    }
   ],
   "source": [
    "filtered2 = signal.convolve(X[3], filter2, mode='valid')\n",
    "\n",
    "f, axarr = plt.subplots(1,2)\n",
    "_ = axarr[0].imshow(X[3], cmap='gray')\n",
    "_ = axarr[1].imshow(filtered2, cmap='gray')"
   ]
  },
  {
   "cell_type": "markdown",
   "id": "8eba7ad2-c359-4b56-a654-9d43891aed70",
   "metadata": {},
   "source": [
    "Just for fun, let's also look what a Gaussian filter does."
   ]
  },
  {
   "cell_type": "code",
   "execution_count": 21,
   "id": "f953f8e3-a97a-4126-86d2-bd7997d69b4f",
   "metadata": {},
   "outputs": [
    {
     "data": {
      "image/png": "[encoded data removed]",
      "text/plain": [
       "<Figure size 640x480 with 1 Axes>"
      ]
     },
     "metadata": {},
     "output_type": "display_data"
    }
   ],
   "source": [
    "gauss = np.array([[0.0625, 0.125, 0.0625],\n",
    "                 [0.125, 0.25, 0.125],\n",
    "                  [0.0625, 0.125, 0.0625]])\n",
    "gauss = np.expand_dims(gauss, axis=2)\n",
    "\n",
    "_ = plt.imshow(gauss, cmap='gray')"
   ]
  },
  {
   "cell_type": "code",
   "execution_count": 22,
   "id": "cc195edd-1a87-4c3d-8ed7-e4bed04ef6ad",
   "metadata": {},
   "outputs": [
    {
     "data": {
      "image/png": "[encoded data removed]",
      "text/plain": [
       "<Figure size 640x480 with 2 Axes>"
      ]
     },
     "metadata": {},
     "output_type": "display_data"
    }
   ],
   "source": [
    "gauss_filtered = signal.convolve(X[3], gauss, mode='valid')\n",
    "\n",
    "f, axarr = plt.subplots(1,2)\n",
    "_ = axarr[0].imshow(X[3], cmap='gray')\n",
    "_ = axarr[1].imshow(gauss_filtered, cmap='gray')"
   ]
  },
  {
   "cell_type": "markdown",
   "id": "88a1e497-a55c-4b38-9f63-6ae8af222c1c",
   "metadata": {},
   "source": [
    "## Through the model"
   ]
  },
  {
   "cell_type": "markdown",
   "id": "9d3a6345-a774-4c9f-9380-ae5f4d9804e7",
   "metadata": {},
   "source": [
    "Let's send an image through our model and see what happens."
   ]
  },
  {
   "cell_type": "code",
   "execution_count": 23,
   "id": "b59db162-9d4a-4b05-86eb-57eaba404685",
   "metadata": {},
   "outputs": [
    {
     "name": "stdout",
     "output_type": "stream",
     "text": [
      "Model: \"sequential\"\n",
      "_________________________________________________________________\n",
      " Layer (type)                Output Shape              Param #   \n",
      "=================================================================\n",
      " conv2d (Conv2D)             (None, 24, 24, 6)         156       \n",
      "                                                                 \n",
      " max_pooling2d (MaxPooling2  (None, 12, 12, 6)         0         \n",
      " D)                                                              \n",
      "                                                                 \n",
      " conv2d_1 (Conv2D)           (None, 8, 8, 12)          1812      \n",
      "                                                                 \n",
      " max_pooling2d_1 (MaxPoolin  (None, 4, 4, 12)          0         \n",
      " g2D)                                                            \n",
      "                                                                 \n",
      " flatten (Flatten)           (None, 192)               0         \n",
      "                                                                 \n",
      " dense (Dense)               (None, 120)               23160     \n",
      "                                                                 \n",
      " dense_1 (Dense)             (None, 84)                10164     \n",
      "                                                                 \n",
      " dense_2 (Dense)             (None, 10)                850       \n",
      "                                                                 \n",
      "=================================================================\n",
      "Total params: 36142 (141.18 KB)\n",
      "Trainable params: 36142 (141.18 KB)\n",
      "Non-trainable params: 0 (0.00 Byte)\n",
      "_________________________________________________________________\n"
     ]
    }
   ],
   "source": [
    "model.summary()"
   ]
  },
  {
   "cell_type": "markdown",
   "id": "69ceb1c1-b145-4470-a499-fa0e73b110ae",
   "metadata": {},
   "source": [
    "So, we have used 6 filters in our definition.\n",
    "Each filter will add a dimension to our output as we can see in the above summary. \n",
    "We thus get 6 filtered images.\n",
    "We can read out the weights as follows."
   ]
  },
  {
   "cell_type": "code",
   "execution_count": 25,
   "id": "da0623c0-e50c-4479-a2ca-5b76d4133ca8",
   "metadata": {},
   "outputs": [
    {
     "data": {
      "text/plain": [
       "(5, 5, 1, 6)"
      ]
     },
     "execution_count": 25,
     "metadata": {},
     "output_type": "execute_result"
    }
   ],
   "source": [
    "layer1_weights = model.layers[0].get_weights()[0]\n",
    "layer1_weights.shape"
   ]
  },
  {
   "cell_type": "markdown",
   "id": "bdb094a3-ad5d-4e3f-98dd-3fc1550de28c",
   "metadata": {},
   "source": [
    "Alternatively we can call a layer by its name."
   ]
  },
  {
   "cell_type": "code",
   "execution_count": 26,
   "id": "72664d1e-5d5c-49a2-bf81-d0f72ce227b2",
   "metadata": {},
   "outputs": [
    {
     "data": {
      "text/plain": [
       "(5, 5, 1, 6)"
      ]
     },
     "execution_count": 26,
     "metadata": {},
     "output_type": "execute_result"
    }
   ],
   "source": [
    "layer1_weights = model.get_layer('conv2d').get_weights()[0]\n",
    "layer1_weights.shape"
   ]
  },
  {
   "cell_type": "markdown",
   "id": "4d8ef551-3072-4cd8-bdcb-5930de350b6c",
   "metadata": {},
   "source": [
    "We can see that we have 6 $(5,5)$ filters stored. \n",
    "The index after the weight function indiciates that we get the filters. \n",
    "An index of 1 will return the bias.\n",
    "Let's look at a single filter out of those 6."
   ]
  },
  {
   "cell_type": "code",
   "execution_count": 28,
   "id": "063e8b09-63bb-43e2-ad59-e8260ac975c1",
   "metadata": {},
   "outputs": [
    {
     "data": {
      "image/png": "[encoded data removed]",
      "text/plain": [
       "<Figure size 640x480 with 1 Axes>"
      ]
     },
     "metadata": {},
     "output_type": "display_data"
    }
   ],
   "source": [
    "w1 = layer1_weights[:,:,:,0]\n",
    "_ = plt.imshow(w1, cmap='gray')"
   ]
  },
  {
   "cell_type": "markdown",
   "id": "24ed448c-c793-49d9-87d8-095f2a28b2e0",
   "metadata": {},
   "source": [
    "Let's see what happens when we apply this to our image."
   ]
  },
  {
   "cell_type": "code",
   "execution_count": 38,
   "id": "f03061f7-4547-4ccd-b257-ca4397026936",
   "metadata": {},
   "outputs": [
    {
     "data": {
      "image/png": "[encoded data removed]",
      "text/plain": [
       "<Figure size 640x480 with 2 Axes>"
      ]
     },
     "metadata": {},
     "output_type": "display_data"
    }
   ],
   "source": [
    "layer1_output = signal.correlate(X[3], w1, mode='valid')\n",
    "\n",
    "f, axarr = plt.subplots(1,2)\n",
    "_ = axarr[0].imshow(X[3], cmap='gray')\n",
    "_ = axarr[1].imshow(first_layer_output, cmap='gray')"
   ]
  },
  {
   "cell_type": "markdown",
   "id": "3d750d7a-7c8f-4d99-b45a-56701db615e2",
   "metadata": {},
   "source": [
    "We still need to apply the activation function.\n",
    "In our case it was the ReLu function."
   ]
  },
  {
   "cell_type": "code",
   "execution_count": 40,
   "id": "a0fbe608-742b-4689-b1a5-ec929b164c5a",
   "metadata": {},
   "outputs": [
    {
     "data": {
      "image/png": "[encoded data removed]",
      "text/plain": [
       "<Figure size 640x480 with 1 Axes>"
      ]
     },
     "metadata": {},
     "output_type": "display_data"
    }
   ],
   "source": [
    "def ReLU(x):\n",
    "    return x * (x > 0)\n",
    "vec_relu = np.vectorize(ReLU)\n",
    "\n",
    "manual_output1 = vec_relu(layer1_output)\n",
    "\n",
    "_ = plt.imshow(manual_output1, cmap='gray')"
   ]
  },
  {
   "cell_type": "markdown",
   "id": "ffafbfaf-6635-4e4c-89dd-575f3392da1e",
   "metadata": {},
   "source": [
    "We can directly look at the layers in our network using `Keras`."
   ]
  },
  {
   "cell_type": "code",
   "execution_count": 35,
   "id": "38dc90e9-abeb-4a1e-95ab-f99069d7d6b6",
   "metadata": {},
   "outputs": [
    {
     "data": {
      "text/plain": [
       "(42000, 24, 24, 6)"
      ]
     },
     "execution_count": 35,
     "metadata": {},
     "output_type": "execute_result"
    }
   ],
   "source": [
    "from keras import backend as K\n",
    "\n",
    "layer1_output = K.function(\n",
    "  [model.get_layer('conv2d').input], \n",
    "  [model.get_layer('conv2d').output]) \n",
    "\n",
    "output1 = layer1_output([X])[0]\n",
    "\n",
    "output1.shape"
   ]
  },
  {
   "cell_type": "code",
   "execution_count": 42,
   "id": "64034a0c-2ccb-455d-8aa7-425c3d5b6336",
   "metadata": {},
   "outputs": [
    {
     "data": {
      "image/png": "[encoded data removed]",
      "text/plain": [
       "<Figure size 640x480 with 1 Axes>"
      ]
     },
     "metadata": {},
     "output_type": "display_data"
    }
   ],
   "source": [
    "test_output1 = output1[3, :, :, 0]\n",
    "\n",
    "_ = plt.imshow(test_output1, cmap='gray')"
   ]
  },
  {
   "cell_type": "markdown",
   "id": "295acf6c-d514-4348-abc7-a3eff7320fdd",
   "metadata": {},
   "source": [
    "Let's put them side by side."
   ]
  },
  {
   "cell_type": "code",
   "execution_count": 43,
   "id": "13647abd-8966-44b1-8f1d-8df4d278bf7d",
   "metadata": {},
   "outputs": [
    {
     "data": {
      "image/png": "[encoded data removed]",
      "text/plain": [
       "<Figure size 640x480 with 2 Axes>"
      ]
     },
     "metadata": {},
     "output_type": "display_data"
    }
   ],
   "source": [
    "f, axarr = plt.subplots(1,2)\n",
    "_ = axarr[0].imshow(test_output1, cmap='gray')\n",
    "_ = axarr[1].imshow(manual_output1, cmap='gray')"
   ]
  },
  {
   "cell_type": "markdown",
   "id": "b0e37c04-7bf5-42fa-a3ea-a8bc26dc5f7b",
   "metadata": {},
   "source": [
    "Let's look at the next layer, ignoring the pooling layer for the moment.layer3_weights = model.layers[2].get_weights()[0]\n",
    "layer3_weights.shape"
   ]
  },
  {
   "cell_type": "code",
   "execution_count": 44,
   "id": "8ebb51aa-8bb9-4dec-b750-ccf5ebad8234",
   "metadata": {},
   "outputs": [
    {
     "data": {
      "text/plain": [
       "(5, 5, 6, 12)"
      ]
     },
     "execution_count": 44,
     "metadata": {},
     "output_type": "execute_result"
    }
   ],
   "source": [
    "layer3_weights = model.get_layer('conv2d_1').get_weights()[0]\n",
    "layer3_weights.shape"
   ]
  },
  {
   "cell_type": "markdown",
   "id": "4780f020-6d9e-4e53-8790-dd643a022d26",
   "metadata": {},
   "source": [
    "Here we can read off that we have 12 filters and each dimension of the filter has to match with its input, hence the dimension is $(5, 5, 6)$."
   ]
  },
  {
   "cell_type": "markdown",
   "id": "1a945e21-6241-4b28-9bb6-2c2ae63c7084",
   "metadata": {},
   "source": [
    "Again, let's look at an image after a single filter."
   ]
  },
  {
   "cell_type": "code",
   "execution_count": 46,
   "id": "8f280829-244e-4693-8968-192b762758f5",
   "metadata": {},
   "outputs": [
    {
     "data": {
      "text/plain": [
       "(42000, 8, 8, 12)"
      ]
     },
     "execution_count": 46,
     "metadata": {},
     "output_type": "execute_result"
    }
   ],
   "source": [
    "get_layer3_output = K.function(\n",
    "  [model.layers[0].input], \n",
    "  [model.layers[2].output]) \n",
    "\n",
    "output3 = get_layer3_output([X])[0]\n",
    "output3.shape"
   ]
  },
  {
   "cell_type": "code",
   "execution_count": 47,
   "id": "37e1b0be-83a0-4f32-9ff2-b57f9762dc13",
   "metadata": {},
   "outputs": [
    {
     "data": {
      "image/png": "[encoded data removed]",
      "text/plain": [
       "<Figure size 640x480 with 1 Axes>"
      ]
     },
     "metadata": {},
     "output_type": "display_data"
    }
   ],
   "source": [
    "_ = plt.imshow(output3[3, :, :, 0], cmap='gray')"
   ]
  },
  {
   "cell_type": "markdown",
   "id": "fadc4cb0-9ba0-4980-ac39-0ba9529ec5e8",
   "metadata": {},
   "source": [
    "Now we will check what happens.\n",
    "We will access the output after pooling for the first time.\n",
    "This should be a subsampled version of what we have seen above.\n",
    "Then we apply the convolution operation followed by the ReLU function."
   ]
  },
  {
   "cell_type": "code",
   "execution_count": 50,
   "id": "39b105bc-d3e0-46bb-9cb9-17ddc10aae38",
   "metadata": {},
   "outputs": [
    {
     "data": {
      "text/plain": [
       "(42000, 12, 12, 6)"
      ]
     },
     "execution_count": 50,
     "metadata": {},
     "output_type": "execute_result"
    }
   ],
   "source": [
    "get_layer2_output = K.function(\n",
    "  [model.get_layer('conv2d').input], \n",
    "  [model.get_layer('max_pooling2d').output]) \n",
    "\n",
    "output2 = get_layer2_output([X])[0]\n",
    "output2.shape"
   ]
  },
  {
   "cell_type": "code",
   "execution_count": 51,
   "id": "beb6515e-e38a-488f-8119-105f36abc5ca",
   "metadata": {},
   "outputs": [
    {
     "data": {
      "text/plain": [
       "(5, 5, 6)"
      ]
     },
     "execution_count": 51,
     "metadata": {},
     "output_type": "execute_result"
    }
   ],
   "source": [
    "w2 =layer3_weights[:, :, :, 0]\n",
    "w2.shape"
   ]
  },
  {
   "cell_type": "markdown",
   "id": "d5ef3756-e42b-430e-a216-259e3d5b065b",
   "metadata": {},
   "source": [
    "So, a single output from the first pooling layer will be a $(12, 12, 6)$ tensor and we filter it by a $(5, 5, 6)$ filter.\n",
    "Thus, we expect an output of the form $(8, 8, 1)$.\n",
    "Let's double check."
   ]
  },
  {
   "cell_type": "code",
   "execution_count": 52,
   "id": "fe90fb47-71d9-4f11-9ebf-b96a0b56e098",
   "metadata": {},
   "outputs": [
    {
     "data": {
      "text/plain": [
       "(8, 8, 1)"
      ]
     },
     "execution_count": 52,
     "metadata": {},
     "output_type": "execute_result"
    }
   ],
   "source": [
    "manual_output2 = signal.correlate(output2[3, :, :, :], w2, mode='valid')\n",
    "manual_output2.shape"
   ]
  },
  {
   "cell_type": "markdown",
   "id": "0651ee38-eae7-4574-9d1c-176db350639b",
   "metadata": {},
   "source": [
    "Ok, now let's compare this to `Keras` output."
   ]
  },
  {
   "cell_type": "code",
   "execution_count": 54,
   "id": "ae2f4c30-5bb8-4cd9-97fd-510e14ae326b",
   "metadata": {},
   "outputs": [
    {
     "data": {
      "image/png": "[encoded data removed]",
      "text/plain": [
       "<Figure size 640x480 with 2 Axes>"
      ]
     },
     "metadata": {},
     "output_type": "display_data"
    }
   ],
   "source": [
    "manual_output2 = vec_relu(manual_output2)\n",
    "f, axarr = plt.subplots(1,2)\n",
    "_ = axarr[0].imshow(output3[3, :, :, 0], cmap='gray')\n",
    "_ = axarr[1].imshow(manual_output2, cmap='gray')"
   ]
  },
  {
   "cell_type": "markdown",
   "id": "8f2088b9-d746-435d-8921-91bd5ce1d40b",
   "metadata": {},
   "source": [
    "## Flattening"
   ]
  },
  {
   "cell_type": "markdown",
   "id": "8ded9248-2e89-41db-b872-96b81495a365",
   "metadata": {},
   "source": [
    "Finally, let's look at the output after flattening.\n",
    "The idea here is that the convolutional layers are learning features of our images.\n",
    "Then, we use a feed forward neural network to classify the images using these features.\n",
    "To use a feed forward neural network, we need to transform the output of the convolutional layers into a vector."
   ]
  },
  {
   "cell_type": "code",
   "execution_count": 55,
   "id": "4eefe00f-7f5c-4b0c-a836-ce2e336209f3",
   "metadata": {},
   "outputs": [
    {
     "data": {
      "text/plain": [
       "(42000, 192)"
      ]
     },
     "execution_count": 55,
     "metadata": {},
     "output_type": "execute_result"
    }
   ],
   "source": [
    "get_layer5_output = K.function(\n",
    "  [model.layers[0].input], \n",
    "  [model.layers[4].output]) \n",
    "\n",
    "output5 = get_layer5_output([X])[0]\n",
    "output5.shape"
   ]
  },
  {
   "cell_type": "code",
   "execution_count": 56,
   "id": "4b1f5b38-1de6-4df0-8ecb-4a58cc92775e",
   "metadata": {},
   "outputs": [],
   "source": [
    "conv_output = np.expand_dims(output5[3], axis=1)\n",
    "conv_output = conv_output[:20, :]"
   ]
  },
  {
   "cell_type": "code",
   "execution_count": 57,
   "id": "31260e5f-f887-42a4-b2e2-0c00eefc3139",
   "metadata": {},
   "outputs": [],
   "source": [
    "conv_output = np.expand_dims(conv_output, axis=2)"
   ]
  },
  {
   "cell_type": "code",
   "execution_count": 58,
   "id": "59502b22-d997-48b5-9b24-a5cb8ab85826",
   "metadata": {},
   "outputs": [
    {
     "data": {
      "image/png": "[encoded data removed]",
      "text/plain": [
       "<Figure size 640x480 with 1 Axes>"
      ]
     },
     "metadata": {},
     "output_type": "display_data"
    }
   ],
   "source": [
    "_ = plt.imshow(conv_output, cmap='gray')"
   ]
  },
  {
   "cell_type": "markdown",
   "id": "3edc7ae4-f939-436c-8501-01515973b89f",
   "metadata": {},
   "source": [
    "# Pooling"
   ]
  },
  {
   "cell_type": "markdown",
   "id": "5a6a39c6-bdbb-494e-8ddc-edbe60b7119b",
   "metadata": {},
   "source": [
    "Finally, let's talk about pooling.\n",
    "The idea is very simple.\n",
    "We simply look at the response in each area of our filtered image.\n",
    "Here we used `MaxPooling` with a size of $(2,2)$ and stride of same size.\n",
    "This means that we look at $(2,2)$ submatrices and return the max value.\n",
    "The idea here is that we don't care where the response is, only that there is a response at all.\n",
    "For example, suppose we have a filter which is able to detect an eye in a picture, then we just want to know that there is one, not where it is."
   ]
  },
  {
   "cell_type": "code",
   "execution_count": 60,
   "id": "66935305-1f01-4cf8-8337-cd0cdee21933",
   "metadata": {},
   "outputs": [
    {
     "data": {
      "image/png": "[encoded data removed]",
      "text/plain": [
       "<Figure size 640x480 with 2 Axes>"
      ]
     },
     "metadata": {},
     "output_type": "display_data"
    }
   ],
   "source": [
    "f, axarr = plt.subplots(1,2)\n",
    "_ = axarr[0].imshow(output[3, :, :, 0], cmap='gray')\n",
    "_ = axarr[1].imshow(output2[3, :, :, 0], cmap='gray')"
   ]
  },
  {
   "cell_type": "code",
   "execution_count": null,
   "id": "eb8cfdd4-abbb-4e5d-a683-2d3a4a7792f3",
   "metadata": {},
   "outputs": [],
   "source": []
  }
 ],
 "metadata": {
  "kernelspec": {
   "display_name": "Python 3 (ipykernel)",
   "language": "python",
   "name": "python3"
  },
  "language_info": {
   "codemirror_mode": {
    "name": "ipython",
    "version": 3
   },
   "file_extension": ".py",
   "mimetype": "text/x-python",
   "name": "python",
   "nbconvert_exporter": "python",
   "pygments_lexer": "ipython3",
   "version": "3.11.7"
  }
 },
 "nbformat": 4,
 "nbformat_minor": 5
}
