{
 "cells": [
  {
   "cell_type": "markdown",
   "id": "5f29a8c2-671b-4a46-91ea-c9f9e052e147",
   "metadata": {},
   "source": [
    "# CNN in detail\n",
    "\n",
    "We continue to look at a convolutional neural network by considering the outputs in each layer."
   ]
  },
  {
   "cell_type": "code",
   "execution_count": 38,
   "id": "ac9050d6-0982-481b-8768-08ee51955660",
   "metadata": {},
   "outputs": [],
   "source": [
    "import pandas as pd\n",
    "\n",
    "mnist_train = pd.read_csv('train.csv')\n",
    "\n",
    "y = mnist_train['label']\n",
    "X = mnist_train.drop(columns = 'label')"
   ]
  },
  {
   "cell_type": "code",
   "execution_count": 39,
   "id": "d1700341-6392-4132-8f5c-1f948c6e76ed",
   "metadata": {},
   "outputs": [],
   "source": [
    "from keras.utils import to_categorical\n",
    "\n",
    "y = to_categorical(y, num_classes=10)"
   ]
  },
  {
   "cell_type": "code",
   "execution_count": 40,
   "id": "8a7411cd-84ca-4064-9d1f-34f58f6b5e58",
   "metadata": {},
   "outputs": [],
   "source": [
    "from sklearn.preprocessing import MinMaxScaler\n",
    "\n",
    "scaler = MinMaxScaler().set_output(transform = 'pandas')\n",
    "scaler.fit(X)\n",
    "X = scaler.transform(X)\n",
    "\n",
    "X = X.values.reshape(-1, 28, 28, 1)"
   ]
  },
  {
   "cell_type": "code",
   "execution_count": 41,
   "id": "c50dfece-20be-48e4-97e9-44bc7f1592b9",
   "metadata": {},
   "outputs": [],
   "source": [
    "from keras import Sequential\n",
    "from keras.layers import Conv2D, MaxPool2D, Flatten, Dense\n",
    "from keras.optimizers import Adam"
   ]
  },
  {
   "cell_type": "code",
   "execution_count": 42,
   "id": "8850567b-fe28-471d-bf79-b31e9c6e0e01",
   "metadata": {},
   "outputs": [],
   "source": [
    "input_shape = (28, 28, 1)\n",
    "\n",
    "model = Sequential()\n",
    "\n",
    "# conv layer 1\n",
    "model.add(Conv2D(\n",
    "    filters =6,\n",
    "    strides = (1,1),\n",
    "    kernel_size = (5,5),\n",
    "    activation = 'ReLU',\n",
    "    input_shape = input_shape\n",
    "))\n",
    "\n",
    "# pooling layer 1\n",
    "model.add(MaxPool2D(pool_size = (2,2), strides=(2,2)))\n",
    "\n",
    "# conv layer 2\n",
    "model.add(Conv2D(\n",
    "    filters =12,\n",
    "    strides = (1,1),\n",
    "    kernel_size = (5,5),\n",
    "    activation = 'ReLU'\n",
    "))\n",
    "\n",
    "# pooling layer 2\n",
    "model.add(MaxPool2D(pool_size = (2,2), strides=(2,2)))\n",
    "\n",
    "# Flatten\n",
    "model.add(Flatten())\n",
    "\n",
    "# FC FF layer 1\n",
    "model.add(Dense(units=120, activation='ReLU'))\n",
    "\n",
    "# FC FF layer 2\n",
    "model.add(Dense(units=84, activation='ReLU'))\n",
    "\n",
    "# output layer\n",
    "model.add(Dense(units=10, activation='softmax'))"
   ]
  },
  {
   "cell_type": "code",
   "execution_count": 43,
   "id": "4c114ce5-f1fb-46da-93ab-61a6563fbe69",
   "metadata": {},
   "outputs": [
    {
     "name": "stdout",
     "output_type": "stream",
     "text": [
      "Model: \"sequential_1\"\n",
      "_________________________________________________________________\n",
      " Layer (type)                Output Shape              Param #   \n",
      "=================================================================\n",
      " conv2d_2 (Conv2D)           (None, 24, 24, 6)         156       \n",
      "                                                                 \n",
      " max_pooling2d_2 (MaxPoolin  (None, 12, 12, 6)         0         \n",
      " g2D)                                                            \n",
      "                                                                 \n",
      " conv2d_3 (Conv2D)           (None, 8, 8, 12)          1812      \n",
      "                                                                 \n",
      " max_pooling2d_3 (MaxPoolin  (None, 4, 4, 12)          0         \n",
      " g2D)                                                            \n",
      "                                                                 \n",
      " flatten_1 (Flatten)         (None, 192)               0         \n",
      "                                                                 \n",
      " dense_3 (Dense)             (None, 120)               23160     \n",
      "                                                                 \n",
      " dense_4 (Dense)             (None, 84)                10164     \n",
      "                                                                 \n",
      " dense_5 (Dense)             (None, 10)                850       \n",
      "                                                                 \n",
      "=================================================================\n",
      "Total params: 36142 (141.18 KB)\n",
      "Trainable params: 36142 (141.18 KB)\n",
      "Non-trainable params: 0 (0.00 Byte)\n",
      "_________________________________________________________________\n"
     ]
    }
   ],
   "source": [
    "# optimizer\n",
    "optimizer = Adam(learning_rate=0.001, beta_1=0.9, beta_2=0.999)\n",
    "\n",
    "# compiling\n",
    "model.compile(loss ='categorical_crossentropy', optimizer=optimizer, metrics=['accuracy'])\n",
    "\n",
    "model.summary()"
   ]
  },
  {
   "cell_type": "code",
   "execution_count": 44,
   "id": "2013ca80-49a2-4be0-9ef8-14c29386699a",
   "metadata": {},
   "outputs": [
    {
     "name": "stdout",
     "output_type": "stream",
     "text": [
      "Epoch 1/20\n",
      "329/329 [==============================] - 6s 17ms/step - loss: 0.4388 - accuracy: 0.8678\n",
      "Epoch 2/20\n",
      "329/329 [==============================] - 6s 17ms/step - loss: 0.1313 - accuracy: 0.9586\n",
      "Epoch 3/20\n",
      "329/329 [==============================] - 6s 18ms/step - loss: 0.0911 - accuracy: 0.9707\n",
      "Epoch 4/20\n",
      "329/329 [==============================] - 6s 19ms/step - loss: 0.0719 - accuracy: 0.9774\n",
      "Epoch 5/20\n",
      "329/329 [==============================] - 6s 19ms/step - loss: 0.0609 - accuracy: 0.9804\n",
      "Epoch 6/20\n",
      "329/329 [==============================] - 6s 19ms/step - loss: 0.0537 - accuracy: 0.9830\n",
      "Epoch 7/20\n",
      "329/329 [==============================] - 6s 19ms/step - loss: 0.0446 - accuracy: 0.9858\n",
      "Epoch 8/20\n",
      "329/329 [==============================] - 6s 19ms/step - loss: 0.0386 - accuracy: 0.9873\n",
      "Epoch 9/20\n",
      "329/329 [==============================] - 6s 19ms/step - loss: 0.0355 - accuracy: 0.9888\n",
      "Epoch 10/20\n",
      "329/329 [==============================] - 6s 19ms/step - loss: 0.0321 - accuracy: 0.9895\n",
      "Epoch 11/20\n",
      "329/329 [==============================] - 6s 20ms/step - loss: 0.0285 - accuracy: 0.9906\n",
      "Epoch 12/20\n",
      "329/329 [==============================] - 6s 20ms/step - loss: 0.0234 - accuracy: 0.9924\n",
      "Epoch 13/20\n",
      "329/329 [==============================] - 6s 18ms/step - loss: 0.0229 - accuracy: 0.9921\n",
      "Epoch 14/20\n",
      "329/329 [==============================] - 6s 18ms/step - loss: 0.0217 - accuracy: 0.9925\n",
      "Epoch 15/20\n",
      "329/329 [==============================] - 6s 19ms/step - loss: 0.0173 - accuracy: 0.9943\n",
      "Epoch 16/20\n",
      "329/329 [==============================] - 6s 19ms/step - loss: 0.0154 - accuracy: 0.9950\n",
      "Epoch 17/20\n",
      "329/329 [==============================] - 6s 19ms/step - loss: 0.0156 - accuracy: 0.9948\n",
      "Epoch 18/20\n",
      "329/329 [==============================] - 6s 18ms/step - loss: 0.0145 - accuracy: 0.9950\n",
      "Epoch 19/20\n",
      "329/329 [==============================] - 7s 20ms/step - loss: 0.0127 - accuracy: 0.9959\n",
      "Epoch 20/20\n",
      "329/329 [==============================] - 6s 19ms/step - loss: 0.0123 - accuracy: 0.9959\n"
     ]
    }
   ],
   "source": [
    "epochs = 20\n",
    "\n",
    "history = model.fit(X, y, epochs=epochs, batch_size=128, verbose=1)"
   ]
  },
  {
   "cell_type": "markdown",
   "id": "bd8665ab-b9a9-4dde-924d-df27fc39f5ab",
   "metadata": {},
   "source": [
    "# Filtered images"
   ]
  },
  {
   "cell_type": "markdown",
   "id": "545c656d-8754-439e-b22f-660bd256267d",
   "metadata": {},
   "source": [
    "As last time, we will be looking at the output of a single image."
   ]
  },
  {
   "cell_type": "code",
   "execution_count": 45,
   "id": "b7743733-7c48-4a92-829a-d799877c6967",
   "metadata": {},
   "outputs": [
    {
     "data": {
      "image/png": "[encoded data removed]",
      "text/plain": [
       "<Figure size 640x480 with 1 Axes>"
      ]
     },
     "metadata": {},
     "output_type": "display_data"
    }
   ],
   "source": [
    "import matplotlib.pyplot as plt\n",
    "\n",
    "i=3\n",
    "_ = plt.imshow(X[i], cmap = 'inferno')"
   ]
  },
  {
   "cell_type": "markdown",
   "id": "4cde7d4d-6b90-4fcc-a5f0-0e134421c2aa",
   "metadata": {},
   "source": [
    "Let's plot the effect after the first convolution layer.\n",
    "Since it has 6 filters, we obtain 6 instances of a filtered image."
   ]
  },
  {
   "cell_type": "code",
   "execution_count": 46,
   "id": "3c4deb93-5cb3-4db3-adb9-8dc1902a2e06",
   "metadata": {},
   "outputs": [],
   "source": [
    "layer1_weights = model.layers[0].get_weights()[0]"
   ]
  },
  {
   "cell_type": "code",
   "execution_count": 47,
   "id": "78555997-2276-40f5-adb3-6bb49cc06de6",
   "metadata": {},
   "outputs": [],
   "source": [
    "from keras import backend as K\n",
    "\n",
    "layer1_output = K.function(\n",
    "    [model.layers[0].input],\n",
    "    [model.layers[0].output]\n",
    ")\n",
    "output1 = layer1_output(X)[0]"
   ]
  },
  {
   "cell_type": "code",
   "execution_count": 48,
   "id": "fa558965-1621-4c24-9724-01d7d6202f00",
   "metadata": {},
   "outputs": [
    {
     "data": {
      "text/plain": [
       "(42000, 12, 12, 6)"
      ]
     },
     "execution_count": 48,
     "metadata": {},
     "output_type": "execute_result"
    }
   ],
   "source": [
    "layer2_output = K.function(\n",
    "    [model.layers[0].input],\n",
    "    [model.layers[1].output]\n",
    ")\n",
    "output2 = layer2_output(X)[0]\n",
    "output2.shape"
   ]
  },
  {
   "cell_type": "code",
   "execution_count": 49,
   "id": "6282b744-4ac8-4ef5-9de5-8742387b064b",
   "metadata": {
    "scrolled": true
   },
   "outputs": [
    {
     "data": {
      "image/png": "[encoded data removed]",
      "text/plain": [
       "<Figure size 1000x1000 with 6 Axes>"
      ]
     },
     "metadata": {},
     "output_type": "display_data"
    },
    {
     "data": {
      "image/png": "[encoded data removed]",
      "text/plain": [
       "<Figure size 1000x1000 with 6 Axes>"
      ]
     },
     "metadata": {},
     "output_type": "display_data"
    },
    {
     "data": {
      "image/png": "[encoded data removed]",
      "text/plain": [
       "<Figure size 1000x1000 with 6 Axes>"
      ]
     },
     "metadata": {},
     "output_type": "display_data"
    }
   ],
   "source": [
    "#%matplotlib inline\n",
    "\n",
    "f, axarr = plt.subplots(1,6, figsize=(10,10))\n",
    "\n",
    "# output of first convolution layer\n",
    "for j in range(6):\n",
    "    axarr[j].imshow(output1[i,:,:,j], cmap='inferno')\n",
    "f.tight_layout()\n",
    "plt.show()\n",
    "\n",
    "# filters of first convolution layer\n",
    "f, axarr = plt.subplots(1,6, figsize=(10,10))\n",
    "for j in range(6):\n",
    "    axarr[j].imshow(layer1_weights[:,:,:,j], cmap='inferno')\n",
    "f.tight_layout()\n",
    "plt.show()\n",
    "\n",
    "# output of first pooling layer\n",
    "f, axarr = plt.subplots(1,6, figsize=(10,10))\n",
    "for j in range(6):\n",
    "    axarr[j].imshow(output2[i,:,:,j], cmap='inferno')\n",
    "f.tight_layout()\n",
    "plt.show()"
   ]
  },
  {
   "cell_type": "code",
   "execution_count": 50,
   "id": "48ffb503-def4-46a2-b04a-4151ecb2b003",
   "metadata": {},
   "outputs": [
    {
     "data": {
      "text/plain": [
       "(5, 5, 6, 12)"
      ]
     },
     "execution_count": 50,
     "metadata": {},
     "output_type": "execute_result"
    }
   ],
   "source": [
    "w3 = model.layers[2].get_weights()[0]\n",
    "w3.shape"
   ]
  },
  {
   "cell_type": "code",
   "execution_count": 51,
   "id": "fa1c8d5c-cde1-4f5d-b5d0-8b1477277c53",
   "metadata": {},
   "outputs": [
    {
     "data": {
      "text/plain": [
       "<function matplotlib.pyplot.show(close=None, block=None)>"
      ]
     },
     "execution_count": 51,
     "metadata": {},
     "output_type": "execute_result"
    },
    {
     "data": {
      "image/png": "[encoded data removed]",
      "text/plain": [
       "<Figure size 1000x1000 with 6 Axes>"
      ]
     },
     "metadata": {},
     "output_type": "display_data"
    }
   ],
   "source": [
    "f, axarr = plt.subplots(1,6, figsize=(10,10))\n",
    "\n",
    "for j in range(6):\n",
    "    axarr[j].imshow(w3[:,:,j,0], cmap='inferno')\n",
    "f.tight_layout()\n",
    "plt.show"
   ]
  },
  {
   "cell_type": "code",
   "execution_count": 52,
   "id": "4251da38-f880-4f68-a609-d61693b14d43",
   "metadata": {},
   "outputs": [
    {
     "data": {
      "text/plain": [
       "(42000, 8, 8, 12)"
      ]
     },
     "execution_count": 52,
     "metadata": {},
     "output_type": "execute_result"
    }
   ],
   "source": [
    "layer3_output = K.function(\n",
    "    [model.layers[0].input],\n",
    "    [model.layers[2].output]\n",
    ")\n",
    "output3 = layer3_output(X)[0]\n",
    "output3.shape"
   ]
  },
  {
   "cell_type": "code",
   "execution_count": 53,
   "id": "4f597b1e-3c33-4480-ac1d-17fd7c57e623",
   "metadata": {},
   "outputs": [
    {
     "data": {
      "text/plain": [
       "<function matplotlib.pyplot.show(close=None, block=None)>"
      ]
     },
     "execution_count": 53,
     "metadata": {},
     "output_type": "execute_result"
    },
    {
     "data": {
      "image/png": "[encoded data removed]",
      "text/plain": [
       "<Figure size 1000x1000 with 6 Axes>"
      ]
     },
     "metadata": {},
     "output_type": "display_data"
    }
   ],
   "source": [
    "from scipy import signal\n",
    "\n",
    "f, axarr = plt.subplots(1,6, figsize=(10,10))\n",
    "\n",
    "for j in range(6):\n",
    "    axarr[j].imshow(signal.correlate(output2[i,:,:,j], w3[:,:,j,0], mode='valid'), cmap='inferno')\n",
    "f.tight_layout()\n",
    "plt.show"
   ]
  },
  {
   "cell_type": "code",
   "execution_count": 54,
   "id": "cdf1f657-a28f-48ec-8435-fd8bbab73ad7",
   "metadata": {},
   "outputs": [
    {
     "data": {
      "text/plain": [
       "(8, 8)"
      ]
     },
     "execution_count": 54,
     "metadata": {},
     "output_type": "execute_result"
    }
   ],
   "source": [
    "import numpy as np\n",
    "\n",
    "Z = np.zeros((8,8))\n",
    "Z.shape"
   ]
  },
  {
   "cell_type": "code",
   "execution_count": 55,
   "id": "0d5444c6-65df-4c74-bb2a-d1c2eead37e1",
   "metadata": {
    "scrolled": true
   },
   "outputs": [
    {
     "data": {
      "image/png": "[encoded data removed]",
      "text/plain": [
       "<Figure size 1200x1200 with 6 Axes>"
      ]
     },
     "metadata": {},
     "output_type": "display_data"
    }
   ],
   "source": [
    "\n",
    "f, axarr = plt.subplots(1,6, figsize=(12,12))\n",
    "for j in range(6):\n",
    "    Z = Z + signal.correlate(output2[i,:,:,j], w3[:,:,j,0], mode='valid')\n",
    "    axarr[j].imshow(Z, cmap='inferno')"
   ]
  },
  {
   "cell_type": "code",
   "execution_count": 56,
   "id": "b169cf1b-4422-4606-9d69-695ca42764a3",
   "metadata": {
    "scrolled": true
   },
   "outputs": [
    {
     "data": {
      "image/png": "[encoded data removed]",
      "text/plain": [
       "<Figure size 640x480 with 2 Axes>"
      ]
     },
     "metadata": {},
     "output_type": "display_data"
    }
   ],
   "source": [
    "def ReLU(x):\n",
    "    return x * (x>0)\n",
    "vec_relu = np.vectorize(ReLU)\n",
    "\n",
    "Z = vec_relu(Z)\n",
    "f, axarr = plt.subplots(1,2)\n",
    "_ = axarr[0].imshow(Z, cmap='inferno')\n",
    "_ = axarr[1].imshow(output3[i,:,:,0], cmap='inferno')"
   ]
  },
  {
   "cell_type": "markdown",
   "id": "f2c05ae6-0a38-4e9b-8e09-f0d9b40e2fc9",
   "metadata": {},
   "source": [
    "# Flattening"
   ]
  },
  {
   "cell_type": "markdown",
   "id": "0a6bd0fb-6052-4497-94c5-c123e6423527",
   "metadata": {},
   "source": [
    "Finally, let's talk about pooling.\n",
    "The idea is very simple.\n",
    "We simply look at the response in each area of our filtered image.\n",
    "Here we used `MaxPooling` with a size of $(2,2)$ and stride of same size.\n",
    "This means that we look at $(2,2)$ submatrices and return the max value.\n",
    "The idea here is that we don't care where the response is, only that there is a response at all.\n",
    "For example, suppose we have a filter which is able to detect an eye in a picture, then we just want to know that there is one, not where it is."
   ]
  },
  {
   "cell_type": "code",
   "execution_count": 57,
   "id": "45ee6efc-b226-490f-b8b8-e34486b2f06d",
   "metadata": {},
   "outputs": [
    {
     "data": {
      "text/plain": [
       "(42000, 192)"
      ]
     },
     "execution_count": 57,
     "metadata": {},
     "output_type": "execute_result"
    }
   ],
   "source": [
    "get_layer5_output = K.function(\n",
    "  [model.layers[0].input], \n",
    "  [model.layers[4].output]) \n",
    "\n",
    "output5 = get_layer5_output([X])[0]\n",
    "output5.shape"
   ]
  },
  {
   "cell_type": "code",
   "execution_count": 58,
   "id": "af879484-1354-41ed-9cd0-8120bae8051f",
   "metadata": {},
   "outputs": [],
   "source": [
    "conv_output = np.expand_dims(output5[3], axis=1)\n",
    "conv_output = conv_output[:20, :]"
   ]
  },
  {
   "cell_type": "code",
   "execution_count": 59,
   "id": "4a11dfba-11c9-4dc9-8192-09c0c47ac1f8",
   "metadata": {},
   "outputs": [],
   "source": [
    "conv_output = np.expand_dims(conv_output, axis=2)"
   ]
  },
  {
   "cell_type": "code",
   "execution_count": 60,
   "id": "b24b4d0f-686d-421a-80e2-d3ea253b52d8",
   "metadata": {},
   "outputs": [
    {
     "data": {
      "image/png": "[encoded data removed]",
      "text/plain": [
       "<Figure size 640x480 with 1 Axes>"
      ]
     },
     "metadata": {},
     "output_type": "display_data"
    }
   ],
   "source": [
    "_ = plt.imshow(conv_output, cmap='inferno')"
   ]
  },
  {
   "cell_type": "code",
   "execution_count": null,
   "id": "49be7a23-f382-4b7e-a1be-f02fb5985fd4",
   "metadata": {},
   "outputs": [],
   "source": []
  }
 ],
 "metadata": {
  "kernelspec": {
   "display_name": "Python 3 (ipykernel)",
   "language": "python",
   "name": "python3"
  },
  "language_info": {
   "codemirror_mode": {
    "name": "ipython",
    "version": 3
   },
   "file_extension": ".py",
   "mimetype": "text/x-python",
   "name": "python",
   "nbconvert_exporter": "python",
   "pygments_lexer": "ipython3",
   "version": "3.11.7"
  }
 },
 "nbformat": 4,
 "nbformat_minor": 5
}
